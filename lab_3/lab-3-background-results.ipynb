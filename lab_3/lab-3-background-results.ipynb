{
 "cells": [
  {
   "cell_type": "markdown",
   "id": "61e76f08",
   "metadata": {
    "papermill": {
     "duration": 0.115149,
     "end_time": "2022-08-01T17:37:00.172898",
     "exception": false,
     "start_time": "2022-08-01T17:37:00.057749",
     "status": "completed"
    },
    "tags": []
   },
   "source": [
    "# Lab 3: Quantum Noise\n",
    "Welcome to Qiskit! Before starting with the exercises, please run the cell below by pressing 'shift' + 'return'."
   ]
  },
  {
   "cell_type": "code",
   "execution_count": 1,
   "id": "49cdb6d6",
   "metadata": {
    "execution": {
     "iopub.execute_input": "2022-08-01T17:37:00.472547Z",
     "iopub.status.busy": "2022-08-01T17:37:00.472240Z",
     "iopub.status.idle": "2022-08-01T17:37:02.578879Z",
     "shell.execute_reply": "2022-08-01T17:37:02.577990Z"
    },
    "papermill": {
     "duration": 2.327429,
     "end_time": "2022-08-01T17:37:02.580775",
     "exception": false,
     "start_time": "2022-08-01T17:37:00.253346",
     "status": "completed"
    },
    "tags": []
   },
   "outputs": [
    {
     "name": "stderr",
     "output_type": "stream",
     "text": [
      "<frozen importlib._bootstrap>:219: RuntimeWarning: scipy._lib.messagestream.MessageStream size changed, may indicate binary incompatibility. Expected 56 from C header, got 64 from PyObject\n"
     ]
    }
   ],
   "source": [
    "import numpy as np\n",
    "import qiskit\n",
    "from qiskit.circuit.library import RXGate\n",
    "from qiskit.providers.aer.noise import NoiseModel, ReadoutError, depolarizing_error, coherent_unitary_error\n",
    "from scipy.stats import norm\n",
    "from scipy.optimize import curve_fit\n",
    "import matplotlib.pylab as plt\n",
    "import qc_grader\n",
    "\n"
   ]
  },
  {
   "cell_type": "markdown",
   "id": "a5180bee",
   "metadata": {
    "papermill": {
     "duration": 0.102714,
     "end_time": "2022-08-01T17:37:02.805268",
     "exception": false,
     "start_time": "2022-08-01T17:37:02.702554",
     "status": "completed"
    },
    "tags": []
   },
   "source": [
    "## III.1: Projection noise\n",
    "Let us first take a look at the noise associated with sampling from a quantum state. When we measure an observable of a quantum system, we observe only the value of the observable associated with one of the eigenstates of the observable, regardless of wether the quantum system was described by a superposition of eigenstates of the observable before the measurement. In the case of superposition states, this introduces a sampling noise due to the finite number of times that we repeat the experiment.\n",
    "\n",
    "### 1) First, create a uniform superposition of $\\vert 0 \\rangle$ and $\\vert 1 \\rangle$, by acting with the Hadamard gate on the $\\vert 0 \\rangle$ state and then measure it"
   ]
  },
  {
   "cell_type": "code",
   "execution_count": 2,
   "id": "5c918612",
   "metadata": {
    "execution": {
     "iopub.execute_input": "2022-08-01T17:37:02.989015Z",
     "iopub.status.busy": "2022-08-01T17:37:02.988527Z",
     "iopub.status.idle": "2022-08-01T17:37:02.995490Z",
     "shell.execute_reply": "2022-08-01T17:37:02.995054Z"
    },
    "papermill": {
     "duration": 0.108841,
     "end_time": "2022-08-01T17:37:02.996822",
     "exception": false,
     "start_time": "2022-08-01T17:37:02.887981",
     "status": "completed"
    },
    "tags": []
   },
   "outputs": [
    {
     "data": {
      "text/plain": [
       "<qiskit.circuit.instructionset.InstructionSet at 0x7fb3e1af2b20>"
      ]
     },
     "execution_count": 2,
     "metadata": {},
     "output_type": "execute_result"
    }
   ],
   "source": [
    "# Create circuit to generate an equal superposition of quantum states\n",
    "# Set the number of qubits\n",
    "qubits_count = 1\n",
    "# Set the number of bits\n",
    "cbits_count = 1\n",
    "# Instantiate a quantum register\n",
    "quantum_register = qiskit.QuantumRegister(qubits_count)\n",
    "# Instantiate a classical register\n",
    "classical_register = qiskit.ClassicalRegister(cbits_count)\n",
    "# Instantiate a quantum circuit\n",
    "circuit = qiskit.QuantumCircuit(quantum_register, classical_register)\n",
    "\n",
    "\n",
    "# Add a Hadamard gate and measurement\n",
    "###INSERT CODE BELOW THIS LINE\n",
    "circuit.h(0)\n",
    "circuit.measure(0,0)\n",
    "###DO NOT EDIT BELOW THIS LINE\n",
    "\n"
   ]
  },
  {
   "cell_type": "code",
   "execution_count": 3,
   "id": "eba98698",
   "metadata": {
    "execution": {
     "iopub.execute_input": "2022-08-01T17:37:03.210804Z",
     "iopub.status.busy": "2022-08-01T17:37:03.210264Z",
     "iopub.status.idle": "2022-08-01T17:37:11.657777Z",
     "shell.execute_reply": "2022-08-01T17:37:11.657248Z"
    },
    "papermill": {
     "duration": 8.546768,
     "end_time": "2022-08-01T17:37:11.660106",
     "exception": false,
     "start_time": "2022-08-01T17:37:03.113338",
     "status": "completed"
    },
    "tags": []
   },
   "outputs": [
    {
     "name": "stdout",
     "output_type": "stream",
     "text": [
      "Submitting your answer. Please wait...\n"
     ]
    },
    {
     "name": "stdout",
     "output_type": "stream",
     "text": [
      "Congratulations 🎉! Your answer is correct and has been submitted.\n"
     ]
    }
   ],
   "source": [
    "from qc_grader.challenges.qgss_2022 import grade_lab3_ex1\n",
    "\n",
    "grade_lab3_ex1(circuit)"
   ]
  },
  {
   "cell_type": "markdown",
   "id": "9d86059f",
   "metadata": {
    "papermill": {
     "duration": 0.081956,
     "end_time": "2022-08-01T17:37:11.903128",
     "exception": false,
     "start_time": "2022-08-01T17:37:11.821172",
     "status": "completed"
    },
    "tags": []
   },
   "source": [
    "### 2) Then retrieve the number of times the state $\\vert 0 \\rangle$ or $\\vert 1 \\rangle$ is observed\n",
    "Remeber to pass the parameter specifying the number of shots to the simulator"
   ]
  },
  {
   "cell_type": "code",
   "execution_count": 4,
   "id": "7abef524",
   "metadata": {
    "execution": {
     "iopub.execute_input": "2022-08-01T17:37:12.078342Z",
     "iopub.status.busy": "2022-08-01T17:37:12.078210Z",
     "iopub.status.idle": "2022-08-01T17:37:12.095652Z",
     "shell.execute_reply": "2022-08-01T17:37:12.094929Z"
    },
    "papermill": {
     "duration": 0.10301,
     "end_time": "2022-08-01T17:37:12.097244",
     "exception": false,
     "start_time": "2022-08-01T17:37:11.994234",
     "status": "completed"
    },
    "tags": []
   },
   "outputs": [
    {
     "name": "stdout",
     "output_type": "stream",
     "text": [
      "Result(backend_name='qasm_simulator', backend_version='0.10.4', qobj_id='4d89ebc1-0de1-4772-a04b-2bad303be318', job_id='895c657a-6935-45d8-acf9-4d53497738f4', success=True, results=[ExperimentResult(shots=1024, success=True, meas_level=2, data=ExperimentResultData(counts={'0x0': 502, '0x1': 522}), header=QobjExperimentHeader(clbit_labels=[['c0', 0]], creg_sizes=[['c0', 1]], global_phase=0.0, memory_slots=1, metadata={}, n_qubits=1, name='circuit-80', qreg_sizes=[['q0', 1]], qubit_labels=[['q0', 0]]), status=DONE, seed_simulator=2503340480, metadata={'parallel_state_update': 8, 'noise': 'ideal', 'batched_shots_optimization': False, 'measure_sampling': True, 'device': 'CPU', 'num_qubits': 1, 'parallel_shots': 1, 'remapped_qubits': False, 'method': 'stabilizer', 'active_input_qubits': [0], 'num_clbits': 1, 'input_qubit_map': [[0, 0]], 'fusion': {'enabled': False}}, time_taken=0.001908689)], date=2022-08-01T17:37:12.092616, status=COMPLETED, header=QobjHeader(backend_name='qasm_simulator', backend_version='0.10.4'), metadata={'time_taken': 0.002194548, 'time_taken_execute': 0.001971353, 'parallel_experiments': 1, 'omp_enabled': True, 'max_gpu_memory_mb': 0, 'num_mpi_processes': 1, 'time_taken_load_qobj': 0.000211587, 'max_memory_mb': 31960, 'mpi_rank': 0}, time_taken=0.002393960952758789)\n",
      "{'0': 502, '1': 522}\n"
     ]
    }
   ],
   "source": [
    "# Run the quantum circuit on a simulator backend which returns measured shots in the Z basis\n",
    "shots_backend = qiskit.Aer.get_backend('qasm_simulator')\n",
    "\n",
    "# Fix number of times to repeat the experiment\n",
    "num_shots = 10\n",
    "\n",
    "# Create a job, run on the simulator, extract the results and get the counts dictionary\n",
    "###INSERT CODE BELOW THIS LINE\n",
    "job = shots_backend.run(circuit)\n",
    "\n",
    "result = job.result()\n",
    "\n",
    "print(result)\n",
    "\n",
    "counts = result.get_counts(circuit)\n",
    "\n",
    "###DO NOT EDIT BELOW THIS LINE\n",
    "\n",
    "print(counts)\n",
    "\n",
    "\n"
   ]
  },
  {
   "cell_type": "code",
   "execution_count": 5,
   "id": "45b6f00b",
   "metadata": {
    "execution": {
     "iopub.execute_input": "2022-08-01T17:37:12.266359Z",
     "iopub.status.busy": "2022-08-01T17:37:12.266212Z",
     "iopub.status.idle": "2022-08-01T17:37:13.141214Z",
     "shell.execute_reply": "2022-08-01T17:37:13.140480Z"
    },
    "papermill": {
     "duration": 0.959055,
     "end_time": "2022-08-01T17:37:13.143006",
     "exception": false,
     "start_time": "2022-08-01T17:37:12.183951",
     "status": "completed"
    },
    "tags": []
   },
   "outputs": [
    {
     "name": "stdout",
     "output_type": "stream",
     "text": [
      "Submitting your answer. Please wait...\n"
     ]
    },
    {
     "name": "stdout",
     "output_type": "stream",
     "text": [
      "Congratulations 🎉! Your answer is correct and has been submitted.\n"
     ]
    }
   ],
   "source": [
    "from qc_grader.challenges.qgss_2022 import  grade_lab3_ex2\n",
    "\n",
    "grade_lab3_ex2(counts)"
   ]
  },
  {
   "cell_type": "markdown",
   "id": "a2f06625",
   "metadata": {
    "papermill": {
     "duration": 0.08488,
     "end_time": "2022-08-01T17:37:13.315065",
     "exception": false,
     "start_time": "2022-08-01T17:37:13.230185",
     "status": "completed"
    },
    "tags": []
   },
   "source": [
    "The probability of observing $\\vert 0 \\rangle$, which can be taken to be the frequency with which we observed the $\\vert 0 \\rangle$ outcome over all the trials: $p_0 = \\frac{{counts}_0}{{num\\_shots}} $, can be far from the theoretical value of $0.5$"
   ]
  },
  {
   "cell_type": "markdown",
   "id": "2045a219",
   "metadata": {
    "papermill": {
     "duration": 0.113658,
     "end_time": "2022-08-01T17:37:13.634972",
     "exception": false,
     "start_time": "2022-08-01T17:37:13.521314",
     "status": "completed"
    },
    "tags": []
   },
   "source": [
    "### 3) Let's go from counts to probabilities, for different number of shots (repetitions of the experiment)\n",
    "Given the definition of probability shown above, how does the probability of observing the $\\vert 0 \\rangle$ state change with the increasing number of shots?"
   ]
  },
  {
   "cell_type": "code",
   "execution_count": 6,
   "id": "b5074636",
   "metadata": {
    "execution": {
     "iopub.execute_input": "2022-08-01T17:37:13.802213Z",
     "iopub.status.busy": "2022-08-01T17:37:13.801506Z",
     "iopub.status.idle": "2022-08-01T17:37:13.830247Z",
     "shell.execute_reply": "2022-08-01T17:37:13.829675Z"
    },
    "papermill": {
     "duration": 0.115674,
     "end_time": "2022-08-01T17:37:13.831955",
     "exception": false,
     "start_time": "2022-08-01T17:37:13.716281",
     "status": "completed"
    },
    "tags": []
   },
   "outputs": [
    {
     "name": "stdout",
     "output_type": "stream",
     "text": [
      "5\n",
      "46\n",
      "515\n",
      "5019\n",
      "The probability of observing the 0 state with 10 shots is: 0.5\n",
      "The probability of observing the 0 state with 100 shots is: 0.46\n",
      "The probability of observing the 0 state with 1000 shots is: 0.515\n",
      "The probability of observing the 0 state with 10000 shots is: 0.5019\n"
     ]
    }
   ],
   "source": [
    "# Set different number of shots\n",
    "num_shots_list = [10, 100, 1000, 10000]\n",
    "\n",
    "# For each number of shots, extract the probability of |0> from the experimental counts\n",
    "p0_list = []\n",
    "for num_shots in num_shots_list:\n",
    "    \n",
    "    # Create a job, run on the simulator, extract the results and get the counts dictionary\n",
    "    ###INSERT CODE BELOW THIS LINE\n",
    "    \n",
    "    job = shots_backend.run(circuit,shots_backend, shots = num_shots)\n",
    "    print(job.result().get_counts(circuit).get('0'))\n",
    "    p0_list.append(job.result().get_counts(circuit).get('0')/num_shots)\n",
    "    \n",
    "    ###DO NOT EDIT BELOW THIS LINE   \n",
    "\n",
    "\n",
    "for num_shots, p0 in zip(num_shots_list, p0_list):\n",
    "    print(f\"The probability of observing the 0 state with {num_shots} shots is: {p0}\")\n"
   ]
  },
  {
   "cell_type": "code",
   "execution_count": 7,
   "id": "9ac56a73",
   "metadata": {
    "execution": {
     "iopub.execute_input": "2022-08-01T17:37:14.006950Z",
     "iopub.status.busy": "2022-08-01T17:37:14.006470Z",
     "iopub.status.idle": "2022-08-01T17:37:14.987518Z",
     "shell.execute_reply": "2022-08-01T17:37:14.987115Z"
    },
    "papermill": {
     "duration": 1.069903,
     "end_time": "2022-08-01T17:37:14.989183",
     "exception": false,
     "start_time": "2022-08-01T17:37:13.919280",
     "status": "completed"
    },
    "tags": []
   },
   "outputs": [
    {
     "name": "stdout",
     "output_type": "stream",
     "text": [
      "Submitting your answer. Please wait...\n"
     ]
    },
    {
     "name": "stdout",
     "output_type": "stream",
     "text": [
      "Congratulations 🎉! Your answer is correct and has been submitted.\n"
     ]
    }
   ],
   "source": [
    "from qc_grader.challenges.qgss_2022 import  grade_lab3_ex3\n",
    "\n",
    "grade_lab3_ex3(p0_list)"
   ]
  },
  {
   "cell_type": "markdown",
   "id": "4c5ca5fe",
   "metadata": {
    "papermill": {
     "duration": 0.083084,
     "end_time": "2022-08-01T17:37:15.155146",
     "exception": false,
     "start_time": "2022-08-01T17:37:15.072062",
     "status": "completed"
    },
    "tags": []
   },
   "source": [
    "The frequency with which the state $\\vert 0 \\rangle$ is observed tends to the theoretical one when the number of shots is increased"
   ]
  },
  {
   "cell_type": "markdown",
   "id": "64dc3514",
   "metadata": {
    "papermill": {
     "duration": 0.084029,
     "end_time": "2022-08-01T17:37:15.322171",
     "exception": false,
     "start_time": "2022-08-01T17:37:15.238142",
     "status": "completed"
    },
    "tags": []
   },
   "source": [
    "### 4) Given a fixed number of shots, estimate the mean and stardard deviation of the frequency of observing the $\\vert 0 \\rangle$ state over many trials\n",
    "When we consider a fixed number of shots, the number of times we observe the state $\\vert 0 \\rangle$ out of the $num\\_shots$ times we have carried out the experiment can fluctuate. Therefore, each time we calculate the probability of observing $\\vert 0 \\rangle$ out of the $num\\_shots$ we'll get different values. Let's estimate this frequency 10000 times and look how the estimate changes each time."
   ]
  },
  {
   "cell_type": "code",
   "execution_count": 8,
   "id": "9a801bd1",
   "metadata": {
    "execution": {
     "iopub.execute_input": "2022-08-01T17:37:15.566842Z",
     "iopub.status.busy": "2022-08-01T17:37:15.566598Z",
     "iopub.status.idle": "2022-08-01T17:37:23.687908Z",
     "shell.execute_reply": "2022-08-01T17:37:23.687220Z"
    },
    "papermill": {
     "duration": 8.286213,
     "end_time": "2022-08-01T17:37:23.689775",
     "exception": false,
     "start_time": "2022-08-01T17:37:15.403562",
     "status": "completed"
    },
    "tags": []
   },
   "outputs": [
    {
     "name": "stdout",
     "output_type": "stream",
     "text": [
      "[  13    0    0    0    0    0    0    0    0    0   98    0    0    0\n",
      "    0    0    0    0    0    0  442    0    0    0    0    0    0    0\n",
      "    0    0 1152    0    0    0    0    0    0    0    0    0 2019    0\n",
      "    0    0    0    0    0    0    0    0 2461    0    0    0    0    0\n",
      "    0    0    0    0 2104    0    0    0    0    0    0    0    0 1178\n",
      "    0    0    0    0    0    0    0    0    0    0  430    0    0    0\n",
      "    0    0    0    0    0    0   96    0    0    0    0    0    0    0\n",
      "    0    7]\n",
      "[0.   0.01 0.02 0.03 0.04 0.05 0.06 0.07 0.08 0.09 0.1  0.11 0.12 0.13\n",
      " 0.14 0.15 0.16 0.17 0.18 0.19 0.2  0.21 0.22 0.23 0.24 0.25 0.26 0.27\n",
      " 0.28 0.29 0.3  0.31 0.32 0.33 0.34 0.35 0.36 0.37 0.38 0.39 0.4  0.41\n",
      " 0.42 0.43 0.44 0.45 0.46 0.47 0.48 0.49 0.5  0.51 0.52 0.53 0.54 0.55\n",
      " 0.56 0.57 0.58 0.59 0.6  0.61 0.62 0.63 0.64 0.65 0.66 0.67 0.68 0.69\n",
      " 0.7  0.71 0.72 0.73 0.74 0.75 0.76 0.77 0.78 0.79 0.8  0.81 0.82 0.83\n",
      " 0.84 0.85 0.86 0.87 0.88 0.89 0.9  0.91 0.92 0.93 0.94 0.95 0.96 0.97\n",
      " 0.98 0.99 1.  ]\n",
      "[0.005 0.015 0.025 0.035 0.045 0.055 0.065 0.075 0.085 0.095 0.105 0.115\n",
      " 0.125 0.135 0.145 0.155 0.165 0.175 0.185 0.195 0.205 0.215 0.225 0.235\n",
      " 0.245 0.255 0.265 0.275 0.285 0.295 0.305 0.315 0.325 0.335 0.345 0.355\n",
      " 0.365 0.375 0.385 0.395 0.405 0.415 0.425 0.435 0.445 0.455 0.465 0.475\n",
      " 0.485 0.495 0.505 0.515 0.525 0.535 0.545 0.555 0.565 0.575 0.585 0.595\n",
      " 0.605 0.615 0.625 0.635 0.645 0.655 0.665 0.675 0.685 0.695 0.705 0.715\n",
      " 0.725 0.735 0.745 0.755 0.765 0.775 0.785 0.795 0.805 0.815 0.825 0.835\n",
      " 0.845 0.855 0.865 0.875 0.885 0.895 0.905 0.915 0.925 0.935 0.945 0.955\n",
      " 0.965 0.975 0.985 0.995]\n"
     ]
    },
    {
     "data": {
      "image/png": "[encoded data removed]",
      "text/plain": [
       "<Figure size 432x288 with 1 Axes>"
      ]
     },
     "metadata": {
      "needs_background": "light"
     },
     "output_type": "display_data"
    }
   ],
   "source": [
    "# Set the number of shots\n",
    "num_shots = 10\n",
    "# Set the number of times to repeat the experiment\n",
    "iterations = 10000\n",
    "# Set the number of bins for the histogram\n",
    "bin_count = 100\n",
    "\n",
    "# For each iteration, create job, run the experiment, \n",
    "# collect results and calculate probability of |0>\n",
    "p0_list = []\n",
    "for _ in range(iterations):\n",
    "\n",
    "    job = shots_backend.run(circuit, shots=num_shots)\n",
    "\n",
    "    result = job.result()\n",
    "\n",
    "    if '0' in result.get_counts().keys():\n",
    "        p0 = result.get_counts()['0']/num_shots\n",
    "    else:\n",
    "        p0 = 1 - result.get_counts()['1']/num_shots\n",
    "\n",
    "    p0_list.append(p0)\n",
    "    \n",
    "# Calculate a histogram from the results\n",
    "yhist, xhist = np.histogram(p0_list, bins=bin_count)\n",
    "print(yhist)\n",
    "print(xhist)\n",
    "# Restrict horizontal axis to 0-1\n",
    "x_01 = np.array([xhist[n] + (xhist[n + 1] - xhist[n])/2 for n in range(len(xhist)-1)])\n",
    "print(x_01)\n",
    "\n",
    "# Find x-points for which the histogram has more than zero counts\n",
    "xh = np.where(yhist > 0)[0]\n",
    "# Get the y-points of the corresponding x ones\n",
    "yh = yhist[xh]\n",
    "# Get the x-points\n",
    "x_01_h = x_01[xh]\n",
    "\n",
    "# Plot\n",
    "plt.scatter(x_01_h, yh, color = 'red')\n",
    "plt.title(f\"Using {num_shots} shots to estimate probability\")\n",
    "plt.xlim((0, 1))\n",
    "plt.xlabel(r'probability of $\\vert 0 \\rangle$')\n",
    "plt.ylabel('counts')\n",
    "plt.show()"
   ]
  },
  {
   "cell_type": "markdown",
   "id": "c336ec31",
   "metadata": {
    "papermill": {
     "duration": 0.184809,
     "end_time": "2022-08-01T17:37:24.063049",
     "exception": false,
     "start_time": "2022-08-01T17:37:23.878240",
     "status": "completed"
    },
    "tags": []
   },
   "source": [
    "We can fit a Gaussian to the histogram of the counts to estimate the mean and the variance of the data. Use scipy's [`curve_fit`](https://docs.scipy.org/doc/scipy/reference/generated/scipy.optimize.curve_fit.html) function for the purpose. `curve_fit` will take the function for fitting, the x and y points to fit and a list of the initial guessed values for the fit. It will then return the estimate and the covariance matrix of the parameters `mean` and `sigma` of the `gaussian(...)` function which best fit the data. For grading purposes, append the estimated mean and the estimated standard deviation (in this order) to the `mu_sigma` list which will be submitted."
   ]
  },
  {
   "cell_type": "code",
   "execution_count": 9,
   "id": "577b5d0d",
   "metadata": {
    "execution": {
     "iopub.execute_input": "2022-08-01T17:37:24.353975Z",
     "iopub.status.busy": "2022-08-01T17:37:24.353022Z",
     "iopub.status.idle": "2022-08-01T17:37:24.518279Z",
     "shell.execute_reply": "2022-08-01T17:37:24.517437Z"
    },
    "papermill": {
     "duration": 0.367364,
     "end_time": "2022-08-01T17:37:24.520200",
     "exception": false,
     "start_time": "2022-08-01T17:37:24.152836",
     "status": "completed"
    },
    "tags": []
   },
   "outputs": [
    {
     "name": "stdout",
     "output_type": "stream",
     "text": [
      "[9.93993038e+02 5.05093476e-01 1.59695294e-01]\n",
      "[[ 8.66005806e+01 -8.76994410e-05  9.49672810e-03]\n",
      " [-8.76994410e-05  2.94564562e-06  2.93768569e-08]\n",
      " [ 9.49672810e-03  2.93768569e-08  3.05164546e-06]]\n",
      "The mean is  993.9930377715494\n",
      "The standard deviation is  0.5050934758849233\n"
     ]
    },
    {
     "data": {
      "image/png": "[encoded data removed]",
      "text/plain": [
       "<Figure size 432x288 with 1 Axes>"
      ]
     },
     "metadata": {
      "needs_background": "light"
     },
     "output_type": "display_data"
    }
   ],
   "source": [
    "# Define a Gaussian function for the fit\n",
    "def gaussian(x, a, mean, sigma):\n",
    "    return a * (1/(sigma*np.sqrt(2*np.pi)))*np.exp(-((x - mean)**2 / (2 * sigma**2)))\n",
    "\n",
    "# Set initial estimates for the fit: the maximum height of the histogram, the theoretical\n",
    "# average and the theoretical standard deviation\n",
    "height_estimate = np.max(yh)\n",
    "mu_estimate = 0.5\n",
    "sigma_estimate = np.sqrt(mu_estimate*(1-mu_estimate)/num_shots)\n",
    "\n",
    "# Define list to store the estimated values of the average (mu_sigma[0]) and standard deviation (mu_sigma[1])\n",
    "mu_sigma = []\n",
    "\n",
    "# Use the curve_fit function to fit the experimental data using the definition of the Gaussian function\n",
    "# which will return the estimate of the parameters.\n",
    "###INSERT CODE BELOW THIS LINE\n",
    "\n",
    "popt_, pcov_ = curve_fit(gaussian, x_01_h, yh, [height_estimate, mu_estimate, height_estimate])\n",
    "print(popt_)\n",
    "print(pcov_)\n",
    "\n",
    "mu_sigma.append(popt_[0])\n",
    "mu_sigma.append(popt_[1])\n",
    "###DO NOT EDIT BELOW THIS LINE   \n",
    "\n",
    "print(\"The mean is \", mu_sigma[0])\n",
    "print(\"The standard deviation is \", mu_sigma[1])\n",
    "popt = popt_\n",
    "\n",
    "# Plot experimental data and the fit\n",
    "plt.scatter(x_01_h, yh, label = 'data', color = 'red')\n",
    "plt.plot(x_01, gaussian(x_01, *popt), label = 'fit', linestyle = '--')\n",
    "plt.title(f\"Using {num_shots} shots to estimate probability\")\n",
    "plt.xlim((0, 1))\n",
    "plt.xlabel(r'probability of $\\vert 0 \\rangle$')\n",
    "plt.ylabel('counts')\n",
    "plt.legend()\n",
    "plt.show()"
   ]
  },
  {
   "cell_type": "code",
   "execution_count": 10,
   "id": "4592ec35",
   "metadata": {
    "execution": {
     "iopub.execute_input": "2022-08-01T17:37:24.803382Z",
     "iopub.status.busy": "2022-08-01T17:37:24.802955Z",
     "iopub.status.idle": "2022-08-01T17:37:26.424709Z",
     "shell.execute_reply": "2022-08-01T17:37:26.423859Z"
    },
    "papermill": {
     "duration": 1.709694,
     "end_time": "2022-08-01T17:37:26.426474",
     "exception": false,
     "start_time": "2022-08-01T17:37:24.716780",
     "status": "completed"
    },
    "tags": []
   },
   "outputs": [
    {
     "name": "stdout",
     "output_type": "stream",
     "text": [
      "Submitting your answer. Please wait...\n"
     ]
    },
    {
     "name": "stdout",
     "output_type": "stream",
     "text": [
      "Oops 😕! Incorrect mean\n",
      "Please review your answer and try again.\n"
     ]
    }
   ],
   "source": [
    "from qc_grader.challenges.qgss_2022 import grade_lab3_ex4\n",
    "\n",
    "grade_lab3_ex4(mu_sigma)"
   ]
  },
  {
   "cell_type": "markdown",
   "id": "698ee965",
   "metadata": {
    "papermill": {
     "duration": 0.085786,
     "end_time": "2022-08-01T17:37:26.604711",
     "exception": false,
     "start_time": "2022-08-01T17:37:26.518925",
     "status": "completed"
    },
    "tags": []
   },
   "source": [
    "### 5) Check the standard deviation for different number of shots\n",
    "By increasing the number of shots, which is the number of samples in the population, we can improve the estimate of the sample mean and its variance"
   ]
  },
  {
   "cell_type": "code",
   "execution_count": 11,
   "id": "e4a4a760",
   "metadata": {
    "execution": {
     "iopub.execute_input": "2022-08-01T17:37:26.780485Z",
     "iopub.status.busy": "2022-08-01T17:37:26.779615Z"
    },
    "papermill": {
     "duration": 178.109928,
     "end_time": "2022-08-01T17:40:24.802137",
     "exception": false,
     "start_time": "2022-08-01T17:37:26.692209",
     "status": "completed"
    },
    "tags": []
   },
   "outputs": [
    {
     "data": {
      "image/png": "[encoded data removed]",
      "text/plain": [
       "<Figure size 432x288 with 1 Axes>"
      ]
     },
     "metadata": {
      "needs_background": "light"
     },
     "output_type": "display_data"
    },
    {
     "data": {
      "image/png": "[encoded data removed]",
      "text/plain": [
       "<Figure size 432x288 with 1 Axes>"
      ]
     },
     "metadata": {
      "needs_background": "light"
     },
     "output_type": "display_data"
    },
    {
     "data": {
      "image/png": "[encoded data removed]",
      "text/plain": [
       "<Figure size 432x288 with 1 Axes>"
      ]
     },
     "metadata": {
      "needs_background": "light"
     },
     "output_type": "display_data"
    }
   ],
   "source": [
    "# Set different number of shots\n",
    "num_shots_list = [10, 100, 1000,10000]\n",
    "# Set the number of times to repeat the experiment\n",
    "iterations = 10000\n",
    "# Set the number of bins for the histogram\n",
    "bin_count = 100\n",
    "\n",
    "# Repeat the protocol above for different number of shots to see how the parameters of the\n",
    "# estimated Gaussian change with the number of shots\n",
    "popt_list = []\n",
    "gaussian_curve_list, x_01_list = [], []\n",
    "for num_shots in num_shots_list:\n",
    "\n",
    "    p0_list = []\n",
    "    for _ in range(iterations):\n",
    "\n",
    "        job = shots_backend.run(circuit, shots=num_shots)\n",
    "\n",
    "        result = job.result()\n",
    "\n",
    "        if '0' in result.get_counts().keys():\n",
    "            p0 = result.get_counts()['0']/num_shots\n",
    "        else:\n",
    "            p0 = 1 - result.get_counts()['1']/num_shots\n",
    "\n",
    "        p0_list.append(p0)\n",
    "\n",
    "\n",
    "\n",
    "    yhist, xhist = np.histogram(p0_list, bins=bin_count)\n",
    "    norm_y = np.sum(yhist)\n",
    "    yhist = yhist/iterations\n",
    "    x_01 = np.array([xhist[n] + (xhist[n + 1] - xhist[n])/2 for n in range(len(xhist)-1)])\n",
    "\n",
    "\n",
    "    xh = np.where(yhist > 0)[0]\n",
    "    yh = yhist[xh]\n",
    "    x_01_h = x_01[xh]\n",
    "\n",
    "    height_estimate = np.max(yh)\n",
    "    mu_estimate = p0\n",
    "    sigma_estimate = np.sqrt(mu_estimate*(1-mu_estimate)/num_shots)\n",
    "\n",
    "\n",
    "    popt, pcov = curve_fit(gaussian, x_01_h, yh, [height_estimate, mu_estimate, sigma_estimate])\n",
    "\n",
    "    gaussian_curve = gaussian(x_01, *popt)\n",
    "    gaussian_curve_list.append(gaussian_curve)\n",
    "    x_01_list.append(x_01)\n",
    "    popt_list.append(popt)\n",
    "\n",
    "\n",
    "    plt.scatter(x_01_h, yh, label = 'data', color = 'red')\n",
    "    plt.plot(x_01, gaussian_curve, label = 'fit', linestyle = '--')\n",
    "    plt.title(f\"Using {num_shots} shots to estimate probability\")\n",
    "    plt.xlim((0, 1))\n",
    "    plt.xlabel(r'probability of $\\vert 0 \\rangle$')\n",
    "    plt.ylabel('counts')\n",
    "    plt.legend()\n",
    "    plt.show()"
   ]
  },
  {
   "cell_type": "markdown",
   "id": "04475aa0",
   "metadata": {
    "papermill": {
     "duration": null,
     "end_time": null,
     "exception": null,
     "start_time": null,
     "status": "pending"
    },
    "tags": []
   },
   "source": [
    "Extract the values from the fit that correspond to the estimate of the standard deviation of the Gaussian distribution and check the validity of the formula $\\sigma = \\sqrt{\\frac{p_0 (1 - p_0)}{N}}$."
   ]
  },
  {
   "cell_type": "code",
   "execution_count": null,
   "id": "819b17ea",
   "metadata": {
    "papermill": {
     "duration": null,
     "end_time": null,
     "exception": null,
     "start_time": null,
     "status": "pending"
    },
    "tags": []
   },
   "outputs": [],
   "source": [
    "# Define list which will contain the experimental standard deviations \n",
    "sigma_exp_list = []\n",
    "\n",
    "# Append the standard deviations from the experiments with different number of shots to sigma_exp_list\n",
    "###INSERT CODE BELOW THIS LINE\n",
    "\n",
    "\n",
    "###DO NOT EDIT BELOW THIS LINE   \n",
    "\n",
    "\n",
    "# Define theoretical sigma\n",
    "p=0.5\n",
    "sigma_th_list = [np.sqrt(p*(1-p)/num_shots) for num_shots in num_shots_list]\n",
    "\n",
    "for sigma_exp, sigma_th in zip(sigma_exp_list, sigma_th_list):\n",
    "    print(f\"The variance from experiment is {sigma_exp} while the theoretical one is {sigma_th}\")"
   ]
  },
  {
   "cell_type": "code",
   "execution_count": null,
   "id": "6601e933",
   "metadata": {
    "papermill": {
     "duration": null,
     "end_time": null,
     "exception": null,
     "start_time": null,
     "status": "pending"
    },
    "tags": []
   },
   "outputs": [],
   "source": [
    "from qc_grader.challenges.qgss_2022 import grade_lab3_ex5\n",
    "\n",
    "grade_lab3_ex5(sigma_exp_list)"
   ]
  },
  {
   "cell_type": "markdown",
   "id": "1bffb198",
   "metadata": {
    "papermill": {
     "duration": null,
     "end_time": null,
     "exception": null,
     "start_time": null,
     "status": "pending"
    },
    "tags": []
   },
   "source": [
    "## III.2: Measurement Noise\n",
    "Let's now consider the case where the measurement outcomes themselves are affected by noise. This can be thought of as mis-classification events. For example, we'll want to find out the probabilities of preparing the qubit in a certain state but then finding it in another one when measured. This type of error is often reffered to as State Preparation And Measurement (SPAM) error."
   ]
  },
  {
   "cell_type": "markdown",
   "id": "90d2e27f",
   "metadata": {
    "papermill": {
     "duration": null,
     "end_time": null,
     "exception": null,
     "start_time": null,
     "status": "pending"
    },
    "tags": []
   },
   "source": [
    "#### Create measurement noise model"
   ]
  },
  {
   "cell_type": "code",
   "execution_count": null,
   "id": "af35ca56",
   "metadata": {
    "papermill": {
     "duration": null,
     "end_time": null,
     "exception": null,
     "start_time": null,
     "status": "pending"
    },
    "tags": []
   },
   "outputs": [],
   "source": [
    "# Set number of shots\n",
    "num_shots_measurement = 10000\n",
    "\n",
    "# Create an empty noise model\n",
    "readout_noise_model = NoiseModel()\n",
    "\n",
    "# Measurement miss-assignement probabilities\n",
    "p0given1 = 0.3 # Probability of measuuring |0> given the state is |1>\n",
    "p1given0 = 0.05 # Probability of measuring |1> given the state is |0>\n",
    "readout_error = ReadoutError([[1 - p1given0, p1given0], [p0given1, 1 - p0given1]]) # Define readout error\n",
    "readout_noise_model.add_readout_error(readout_error, [0]) # Add error to noise model\n"
   ]
  },
  {
   "cell_type": "markdown",
   "id": "548ea4f6",
   "metadata": {
    "papermill": {
     "duration": null,
     "end_time": null,
     "exception": null,
     "start_time": null,
     "status": "pending"
    },
    "tags": []
   },
   "source": [
    "#### 1) First, prepare the qubit in the $\\vert 0 \\rangle$ state and determine the probability of observing the qubit in the $\\vert 0 \\rangle$ or $\\vert 1 \\rangle$"
   ]
  },
  {
   "cell_type": "code",
   "execution_count": null,
   "id": "45de400e",
   "metadata": {
    "papermill": {
     "duration": null,
     "end_time": null,
     "exception": null,
     "start_time": null,
     "status": "pending"
    },
    "tags": []
   },
   "outputs": [],
   "source": [
    "# Calculate probability of seeing |0> given that |0> is prepared\n",
    "circuit_0 = qiskit.QuantumCircuit(quantum_register, classical_register)\n",
    "\n",
    "# Add measurement\n",
    "###INSERT CODE BELOW THIS LINE\n",
    "\n",
    "\n",
    "###DO NOT EDIT BELOW THIS LINE\n"
   ]
  },
  {
   "cell_type": "code",
   "execution_count": null,
   "id": "d1216c33",
   "metadata": {
    "papermill": {
     "duration": null,
     "end_time": null,
     "exception": null,
     "start_time": null,
     "status": "pending"
    },
    "tags": []
   },
   "outputs": [],
   "source": [
    "from qc_grader.challenges.qgss_2022 import grade_lab3_ex6\n",
    "\n",
    "grade_lab3_ex6(circuit_0)"
   ]
  },
  {
   "cell_type": "code",
   "execution_count": null,
   "id": "8978a9d6",
   "metadata": {
    "papermill": {
     "duration": null,
     "end_time": null,
     "exception": null,
     "start_time": null,
     "status": "pending"
    },
    "tags": []
   },
   "outputs": [],
   "source": [
    "# Run the experiment\n",
    "job = shots_backend.run(circuit_0, shots=num_shots_measurement, noise_model=readout_noise_model)\n",
    "# Retrieve results\n",
    "result = job.result()\n",
    "\n",
    "# Calculate probability of |0>\n",
    "if '0' in result.get_counts().keys():\n",
    "    p0_0 = result.get_counts()['0']/num_shots_measurement\n",
    "else:\n",
    "    p0_0 = 1 - result.get_counts()['1']/num_shots_measurement\n",
    "\n",
    "p1_0 = 1 - p0_0\n",
    "\n",
    "print('Probability of measuring |0> when |0> is prepared:', p0_0)\n",
    "print('Probability of measuring |1> when |0> is prepared:', p1_0)"
   ]
  },
  {
   "cell_type": "markdown",
   "id": "16e5bd58",
   "metadata": {
    "papermill": {
     "duration": null,
     "end_time": null,
     "exception": null,
     "start_time": null,
     "status": "pending"
    },
    "tags": []
   },
   "source": [
    "### 2) Then prepare the qubit in the $\\vert 1 \\rangle$ state and determine the probability of observing the qubit in the $\\vert 1 \\rangle$ or $\\vert 0 \\rangle$"
   ]
  },
  {
   "cell_type": "code",
   "execution_count": null,
   "id": "6d49da92",
   "metadata": {
    "papermill": {
     "duration": null,
     "end_time": null,
     "exception": null,
     "start_time": null,
     "status": "pending"
    },
    "tags": []
   },
   "outputs": [],
   "source": [
    "# Calculate probability of seeing |1> given that |1> is prepared\n",
    "circuit_1 = qiskit.QuantumCircuit(quantum_register, classical_register)\n",
    "\n",
    "# Add X gate and measurement\n",
    "###INSERT CODE BELOW THIS LINE\n",
    "\n",
    "\n",
    "###DO NOT EDIT BELOW THIS LINE\n",
    "\n",
    "\n",
    "\n"
   ]
  },
  {
   "cell_type": "code",
   "execution_count": null,
   "id": "2a5be522",
   "metadata": {
    "papermill": {
     "duration": null,
     "end_time": null,
     "exception": null,
     "start_time": null,
     "status": "pending"
    },
    "tags": []
   },
   "outputs": [],
   "source": [
    "from qc_grader.challenges.qgss_2022 import grade_lab3_ex7\n",
    "\n",
    "grade_lab3_ex7(circuit_1)"
   ]
  },
  {
   "cell_type": "code",
   "execution_count": null,
   "id": "88bf657b",
   "metadata": {
    "papermill": {
     "duration": null,
     "end_time": null,
     "exception": null,
     "start_time": null,
     "status": "pending"
    },
    "tags": []
   },
   "outputs": [],
   "source": [
    "# Run the experiment\n",
    "job = shots_backend.run(circuit_1, shots=num_shots_measurement, noise_model=readout_noise_model)\n",
    "# Retrieve results\n",
    "result = job.result()\n",
    "\n",
    "# Calculate probability of |0>\n",
    "if '0' in result.get_counts().keys():\n",
    "    p1_1 = 1 - result.get_counts()['0']/num_shots_measurement\n",
    "else:\n",
    "    p1_1 = result.get_counts()['1']/num_shots_measurement\n",
    "\n",
    "p0_1 = 1 - p1_1\n",
    "\n",
    "\n",
    "print('Probability of measuring |0> when |1> is prepared:', p0_1)\n",
    "print('Probability of measuring |1> when |1> is prepared:', p1_1)\n"
   ]
  },
  {
   "cell_type": "markdown",
   "id": "c71dbbb4",
   "metadata": {
    "papermill": {
     "duration": null,
     "end_time": null,
     "exception": null,
     "start_time": null,
     "status": "pending"
    },
    "tags": []
   },
   "source": [
    "### 3) Next build the confusion matrix from the measurements\n",
    "The confusion matrix represents the linear transformation which takes the noiseless probabilities and adds the effect of mis-classification returning noisy probabilities\n",
    "\n",
    "\n",
    "$$p_{noisy} = A \\times p_{ideal}$$\n",
    "\n",
    "where\n",
    "\n",
    "$$ A = \\begin{pmatrix} p(0|0) & p(0|1)\\\\\n",
    "p(1|0) & p(1|1)\\end{pmatrix}  $$"
   ]
  },
  {
   "cell_type": "code",
   "execution_count": null,
   "id": "efe33db8",
   "metadata": {
    "papermill": {
     "duration": null,
     "end_time": null,
     "exception": null,
     "start_time": null,
     "status": "pending"
    },
    "tags": []
   },
   "outputs": [],
   "source": [
    "# Define the confusion matrix from the probabilities found above\n",
    "###INSERT CODE BELOW THIS LINE\n",
    "\n",
    "\n",
    "###DO NOT EDIT BELOW THIS LINE\n",
    "\n",
    "\n",
    "print(\"Confusion matrix:\")\n",
    "print(confusion_matrix)\n",
    "\n"
   ]
  },
  {
   "cell_type": "code",
   "execution_count": null,
   "id": "ec33aecb",
   "metadata": {
    "papermill": {
     "duration": null,
     "end_time": null,
     "exception": null,
     "start_time": null,
     "status": "pending"
    },
    "tags": []
   },
   "outputs": [],
   "source": [
    "from qc_grader.challenges.qgss_2022 import grade_lab3_ex8\n",
    "\n",
    "# The grader expects a np.array object (not list)\n",
    "grade_lab3_ex8(confusion_matrix)"
   ]
  },
  {
   "cell_type": "markdown",
   "id": "1b7d6e92",
   "metadata": {
    "papermill": {
     "duration": null,
     "end_time": null,
     "exception": null,
     "start_time": null,
     "status": "pending"
    },
    "tags": []
   },
   "source": [
    "#### 4) Finally, use confusion matrix to mitigate results of noisy experiment\n",
    "Let's run a noisy experiment"
   ]
  },
  {
   "cell_type": "code",
   "execution_count": null,
   "id": "9300b5c4",
   "metadata": {
    "papermill": {
     "duration": null,
     "end_time": null,
     "exception": null,
     "start_time": null,
     "status": "pending"
    },
    "tags": []
   },
   "outputs": [],
   "source": [
    "# Run experiments\n",
    "job = shots_backend.run(circuit, shots=num_shots_measurement, noise_model=readout_noise_model)\n",
    "# Extract results\n",
    "result = job.result()\n",
    "\n",
    "# Calculate probability of |0>\n",
    "if '0' in result.get_counts().keys():\n",
    "    p0_noisy = result.get_counts()['0']/num_shots_measurement\n",
    "    p1_noisy = 1 - p0_noisy\n",
    "else:\n",
    "    p0_noisy = 1 - result.get_counts()['1']/num_shots_measurement\n",
    "    p1_noisy = 1 - p0_noisy\n",
    "\n",
    "p_vector_noisy = np.array([p0_noisy, p1_noisy])\n",
    "print(\"Noisy probability of |0>: \", p0_noisy)\n",
    "print(\"Noisy probability of |1>: \", p1_noisy)\n"
   ]
  },
  {
   "cell_type": "markdown",
   "id": "157bd087",
   "metadata": {
    "papermill": {
     "duration": null,
     "end_time": null,
     "exception": null,
     "start_time": null,
     "status": "pending"
    },
    "tags": []
   },
   "source": [
    "And now we can mitigate the results using the estimated confusion matrix. First find the inverse of the confusion matrixa and then multiply it by the noisy probabilities\n",
    "\n",
    "$$p_{ideal} = A^{-1} \\times p_{noisy}$$\n",
    "\n",
    "The resulting vector must be clipped and normalized to make sure that it represent valid probabilities"
   ]
  },
  {
   "cell_type": "code",
   "execution_count": null,
   "id": "bf300060",
   "metadata": {
    "papermill": {
     "duration": null,
     "end_time": null,
     "exception": null,
     "start_time": null,
     "status": "pending"
    },
    "tags": []
   },
   "outputs": [],
   "source": [
    "# Invert the confusion matrix\n",
    "inverse_confusion_matrix = np.linalg.inv(confusion_matrix)\n",
    "\n",
    "# Mitigate the counts using the inverse of the confusion matrix\n",
    "###INSERT CODE BELOW THIS LINE\n",
    "\n",
    "\n",
    "###DO NOT EDIT BELOW THIS LINE\n",
    "\n",
    "\n",
    "print(\"Mitigated probability of |0>: \", p_vector_mitigated[0])\n",
    "print(\"Mitigated probability of |1>: \", p_vector_mitigated[1])\n"
   ]
  },
  {
   "cell_type": "code",
   "execution_count": null,
   "id": "5f3ff088",
   "metadata": {
    "papermill": {
     "duration": null,
     "end_time": null,
     "exception": null,
     "start_time": null,
     "status": "pending"
    },
    "tags": []
   },
   "outputs": [],
   "source": [
    "from qc_grader.challenges.qgss_2022 import grade_lab3_ex9\n",
    "\n",
    "# The grader expects a np.array object (not list)\n",
    "grade_lab3_ex9(p_vector_mitigated)"
   ]
  },
  {
   "cell_type": "markdown",
   "id": "0f777e73",
   "metadata": {
    "papermill": {
     "duration": null,
     "end_time": null,
     "exception": null,
     "start_time": null,
     "status": "pending"
    },
    "tags": []
   },
   "source": [
    "And compare it to the results of an ideal experiment"
   ]
  },
  {
   "cell_type": "code",
   "execution_count": null,
   "id": "44d172ab",
   "metadata": {
    "papermill": {
     "duration": null,
     "end_time": null,
     "exception": null,
     "start_time": null,
     "status": "pending"
    },
    "tags": []
   },
   "outputs": [],
   "source": [
    "# Run ideal experiments\n",
    "job = shots_backend.run(circuit, shots=num_shots_measurement)\n",
    "# Extract results\n",
    "result = job.result()\n",
    "\n",
    "# Calculate probability of |0>\n",
    "if '0' in result.get_counts().keys():\n",
    "    p0_ideal = result.get_counts()['0']/num_shots_measurement\n",
    "    p1_ideal = 1 - p0_ideal\n",
    "else:\n",
    "    p0_ideal = 1 - result.get_counts()['1']/num_shots_measurement\n",
    "    p1_ideal = 1 - p0_ideal\n",
    "\n",
    "print(\"Ideal probability of |0>: \", p0_ideal)\n",
    "print(\"Ideal probability of |1>: \", p1_ideal)\n"
   ]
  },
  {
   "cell_type": "markdown",
   "id": "38e962db",
   "metadata": {
    "papermill": {
     "duration": null,
     "end_time": null,
     "exception": null,
     "start_time": null,
     "status": "pending"
    },
    "tags": []
   },
   "source": [
    "## II.3: Coherent Noise\n",
    "Coherent noise may creep in our quantum computers as a result of miscalibrations. For example, a rotation of an angle $\\theta$ actually implement a $\\theta + \\epsilon$ rotation. Below we'll consider the case where the gate that implements a rotation around the $x$ axis RX($\\theta$) gate is affected by an over rotation of $\\epsilon$"
   ]
  },
  {
   "cell_type": "code",
   "execution_count": null,
   "id": "35d9e6a4",
   "metadata": {
    "papermill": {
     "duration": null,
     "end_time": null,
     "exception": null,
     "start_time": null,
     "status": "pending"
    },
    "tags": []
   },
   "outputs": [],
   "source": [
    "# Set number of shots\n",
    "num_shots_coherent = 100\n",
    "\n",
    "# Create an empty noise model\n",
    "rx_overrotation_noise_model = NoiseModel()\n",
    "\n",
    "# Construct a 1 qubit over-rotation of the RX gate\n",
    "epsilon = np.pi/5 # over rotation amount\n",
    "epsilon_rotation = RXGate(epsilon).to_matrix() # get matrix representation\n",
    "\n",
    "# Create coherent error\n",
    "over_rotation = coherent_unitary_error(epsilon_rotation)\n",
    "\n",
    "# Add error to error model\n",
    "rx_overrotation_noise_model.add_quantum_error(over_rotation, ['rx'], qubits = [0])"
   ]
  },
  {
   "cell_type": "markdown",
   "id": "88bb9d96",
   "metadata": {
    "papermill": {
     "duration": null,
     "end_time": null,
     "exception": null,
     "start_time": null,
     "status": "pending"
    },
    "tags": []
   },
   "source": [
    "### 1) Build a circuit with an RX($\\theta$) gate where $\\theta = \\pi$\n",
    "Don't forget to add measurement in the end."
   ]
  },
  {
   "cell_type": "code",
   "execution_count": null,
   "id": "a4b4b337",
   "metadata": {
    "papermill": {
     "duration": null,
     "end_time": null,
     "exception": null,
     "start_time": null,
     "status": "pending"
    },
    "tags": []
   },
   "outputs": [],
   "source": [
    "# Set value of rotation\n",
    "theta = np.pi\n",
    "# Instantiate a quantum circuit\n",
    "circuit = qiskit.QuantumCircuit(quantum_register, classical_register)\n",
    "\n",
    "# Add a parametrized RX rotation and bind the value of the parameter. (By default, parameter binding is not an in-place operation)\n",
    "# Then measure the qubit and calculate probability of seeing |0> after rx(np.pi) \n",
    "###INSERT CODE BELOW THIS LINE\n",
    "\n",
    "\n",
    "###DO NOT EDIT BELOW THIS LINE\n",
    "\n"
   ]
  },
  {
   "cell_type": "code",
   "execution_count": null,
   "id": "a7835b42",
   "metadata": {
    "papermill": {
     "duration": null,
     "end_time": null,
     "exception": null,
     "start_time": null,
     "status": "pending"
    },
    "tags": []
   },
   "outputs": [],
   "source": [
    "from qc_grader.challenges.qgss_2022 import grade_lab3_ex10\n",
    "\n",
    "grade_lab3_ex10(circuit)"
   ]
  },
  {
   "cell_type": "markdown",
   "id": "26bd7507",
   "metadata": {
    "papermill": {
     "duration": null,
     "end_time": null,
     "exception": null,
     "start_time": null,
     "status": "pending"
    },
    "tags": []
   },
   "source": [
    "Given the coherent noise present in the $RX(\\theta)$ gate, a $\\pi$ rotation around the $x$ axis won't take the $\\vert 0 \\rangle$ state to the $\\vert 1 \\rangle$ state exactly"
   ]
  },
  {
   "cell_type": "code",
   "execution_count": null,
   "id": "fc3d1c1a",
   "metadata": {
    "papermill": {
     "duration": null,
     "end_time": null,
     "exception": null,
     "start_time": null,
     "status": "pending"
    },
    "tags": []
   },
   "outputs": [],
   "source": [
    "# Run experiments\n",
    "job = shots_backend.run(circuit, shots=num_shots_coherent, noise_model=rx_overrotation_noise_model)\n",
    "# Extract results\n",
    "result = job.result()\n",
    "\n",
    "# Calculate the probability of |0>\n",
    "if '0' in result.get_counts().keys():\n",
    "    p0 = result.get_counts()['0']/num_shots_coherent\n",
    "else:\n",
    "    p0 = 1 - result.get_counts()['1']/num_shots_coherent\n",
    "\n",
    "print(\"Noisy probability of |0> after coherent error in idling: \", p0)\n",
    "print(\"Noisy probability of |1> after coherent error in idling: \", 1-p0)"
   ]
  },
  {
   "cell_type": "markdown",
   "id": "2daad1be",
   "metadata": {
    "papermill": {
     "duration": null,
     "end_time": null,
     "exception": null,
     "start_time": null,
     "status": "pending"
    },
    "tags": []
   },
   "source": [
    "## l.4: Incoherent Noise\n",
    "We can explore the effects of incoherent noise using Qiskit as well\n",
    "\n",
    "\n",
    "### 1) Construct a depolarizing noise model\n",
    "Now that you've seen how to create noise model for the measurement and coherent error, can you build one for a 5% depolarizing error on the idle (`id`) gate for qubit 0?"
   ]
  },
  {
   "cell_type": "code",
   "execution_count": null,
   "id": "bd3d6558",
   "metadata": {
    "papermill": {
     "duration": null,
     "end_time": null,
     "exception": null,
     "start_time": null,
     "status": "pending"
    },
    "tags": []
   },
   "outputs": [],
   "source": [
    "# Define number of shots\n",
    "num_shots_inchoherent = 10000\n",
    "\n",
    "# Create an empty noise model\n",
    "depolarizing_noise_model = NoiseModel()\n",
    "\n",
    "# Define a depolarizing error on the identity gate for qubit zero and add it to the noise model\n",
    "###INSERT CODE BELOW THIS LINE\n",
    "\n",
    "\n",
    "###DO NOT EDIT BELOW THIS LINE\n",
    "\n"
   ]
  },
  {
   "cell_type": "code",
   "execution_count": null,
   "id": "9e108cbc",
   "metadata": {
    "papermill": {
     "duration": null,
     "end_time": null,
     "exception": null,
     "start_time": null,
     "status": "pending"
    },
    "tags": []
   },
   "outputs": [],
   "source": [
    "from qc_grader.challenges.qgss_2022 import grade_lab3_ex11\n",
    "\n",
    "grade_lab3_ex11(depolarizing_noise_model)"
   ]
  },
  {
   "cell_type": "markdown",
   "id": "7d14c4e1",
   "metadata": {
    "papermill": {
     "duration": null,
     "end_time": null,
     "exception": null,
     "start_time": null,
     "status": "pending"
    },
    "tags": []
   },
   "source": [
    "Let's use the noise model to see the effect of depolarizing error when the qubit is idling"
   ]
  },
  {
   "cell_type": "code",
   "execution_count": null,
   "id": "2bce4a7d",
   "metadata": {
    "papermill": {
     "duration": null,
     "end_time": null,
     "exception": null,
     "start_time": null,
     "status": "pending"
    },
    "tags": []
   },
   "outputs": [],
   "source": [
    "# Create a circuit with an idle instruction\n",
    "circuit_idle = qiskit.QuantumCircuit(quantum_register, classical_register)\n",
    "circuit_idle.id(0)\n",
    "circuit_idle.measure(0,0)\n",
    "\n",
    "# Run experiments\n",
    "job = shots_backend.run(circuit_idle, shots=num_shots_inchoherent, noise_model=depolarizing_noise_model)\n",
    "# Extract results\n",
    "result = job.result()\n",
    "\n",
    "# Calculate probability of seeing |0> after idle time\n",
    "if '0' in result.get_counts().keys():\n",
    "    p0 = result.get_counts()['0']/num_shots_inchoherent\n",
    "else:\n",
    "    p0 = 1 - result.get_counts()['1']/num_shots_inchoherent\n",
    "\n",
    "print(\"Noisy probability of |0> after coherent error in idling: \", p0)\n",
    "print(\"Noisy probability of |1> after coherent error in idling: \", 1-p0)\n"
   ]
  }
 ],
 "metadata": {
  "interpreter": {
   "hash": "bf4bbb548724c59dba6ce516cee24299166586d445daadc417657751c92c7365"
  },
  "kernelspec": {
   "display_name": "Python 3 (ipykernel)",
   "language": "python",
   "name": "python3"
  },
  "language_info": {
   "codemirror_mode": {
    "name": "ipython",
    "version": 3
   },
   "file_extension": ".py",
   "mimetype": "text/x-python",
   "name": "python",
   "nbconvert_exporter": "python",
   "pygments_lexer": "ipython3",
   "version": "3.8.13"
  },
  "papermill": {
   "default_parameters": {},
   "duration": null,
   "end_time": null,
   "environment_variables": {},
   "exception": null,
   "input_path": "/home/jovyan/quantum-challenge/2022-qgss/lab3/lab-3.ipynb",
   "output_path": "/home/jovyan/quantum-challenge/2022-qgss/lab3/lab-3-background-results.ipynb",
   "parameters": {},
   "start_time": "2022-08-01T17:36:57.675869",
   "version": "2.3.3"
  },
  "widgets": {
   "application/vnd.jupyter.widget-state+json": {
    "state": {},
    "version_major": 2,
    "version_minor": 0
   }
  }
 },
 "nbformat": 4,
 "nbformat_minor": 5
}