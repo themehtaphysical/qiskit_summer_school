{
 "cells": [
  {
   "cell_type": "markdown",
   "id": "29c88964",
   "metadata": {
    "papermill": {
     "duration": 0.085285,
     "end_time": "2022-07-31T17:32:36.480982",
     "exception": false,
     "start_time": "2022-07-31T17:32:36.395697",
     "status": "completed"
    },
    "tags": []
   },
   "source": [
    "# Lab 2: Advanced Circuits\n",
    "Welcome to Qiskit! Before starting with the exercises, please run the cell below by pressing 'shift' + 'return'."
   ]
  },
  {
   "cell_type": "code",
   "execution_count": 1,
   "id": "631e384f",
   "metadata": {
    "execution": {
     "iopub.execute_input": "2022-07-31T17:32:36.633162Z",
     "iopub.status.busy": "2022-07-31T17:32:36.632879Z",
     "iopub.status.idle": "2022-07-31T17:32:37.206835Z",
     "shell.execute_reply": "2022-07-31T17:32:37.205847Z"
    },
    "papermill": {
     "duration": 0.650287,
     "end_time": "2022-07-31T17:32:37.209709",
     "exception": false,
     "start_time": "2022-07-31T17:32:36.559422",
     "status": "completed"
    },
    "tags": []
   },
   "outputs": [],
   "source": [
    "import numpy as np\n",
    "from qiskit.opflow import I, X, Y, Z, MatrixEvolution, PauliTrotterEvolution\n",
    "from qiskit.circuit import Parameter\n",
    "from qiskit import QuantumCircuit\n",
    "from qiskit import Aer\n",
    "from qiskit.compiler import transpile\n",
    "import qc_grader\n",
    "\n"
   ]
  },
  {
   "cell_type": "markdown",
   "id": "a0153f5f",
   "metadata": {
    "papermill": {
     "duration": 0.115663,
     "end_time": "2022-07-31T17:32:37.555968",
     "exception": false,
     "start_time": "2022-07-31T17:32:37.440305",
     "status": "completed"
    },
    "tags": []
   },
   "source": [
    "## II.1: Operators and Qiskit Opflow\n",
    "In this notebook we will learn the fundamentals of Qiskit Opflow module, this has advanced features that aim to bridge the gap from quantum information theory to experiments. The Qiskit Opflow module will allow us to quickly enter the realm of quantum simulation. Quoting the Qiskit documentation: \n",
    "\n",
    "<em>\"The Operator Flow is meant to serve as a lingua franca between the theory and implementation of Quantum Algorithms & Applications. Meaning, the ultimate goal is that when theorists speak their theory in the Operator Flow, they are speaking valid implementation, and when the engineers speak their implementation in the Operator Flow, they are speaking valid physical formalism.\"</em>\n",
    "\n",
    "[Here](https://qiskit.org/documentation/tutorials/operators/01_operator_flow.html) you can find more documentation and examples on the module. To start, let's get familiar with how to define operators.\n",
    "\n",
    "### 1.) Define Pauli operators for one qubit\n",
    "Define operators for the four pauli matrices: `X`, `Y`, `Z`, `I`; and collect them in a list `pauli_list`.\n",
    "  \n"
   ]
  },
  {
   "cell_type": "code",
   "execution_count": 2,
   "id": "4882559b",
   "metadata": {
    "execution": {
     "iopub.execute_input": "2022-07-31T17:32:37.792225Z",
     "iopub.status.busy": "2022-07-31T17:32:37.791644Z",
     "iopub.status.idle": "2022-07-31T17:32:37.796148Z",
     "shell.execute_reply": "2022-07-31T17:32:37.795613Z"
    },
    "papermill": {
     "duration": 0.125011,
     "end_time": "2022-07-31T17:32:37.797588",
     "exception": false,
     "start_time": "2022-07-31T17:32:37.672577",
     "status": "completed"
    },
    "tags": []
   },
   "outputs": [
    {
     "name": "stdout",
     "output_type": "stream",
     "text": [
      "X \n",
      "\n",
      "I \n",
      "\n",
      "Y \n",
      "\n",
      "Z \n",
      "\n"
     ]
    }
   ],
   "source": [
    "# Define which will contain the Paulis\n",
    "pauli_list = [X,I,Y,Z]\n",
    "\n",
    "# Define Paulis and add them to the list\n",
    "###INSERT CODE BELOW THIS LINE\n",
    "\n",
    "\n",
    "###DO NOT EDIT BELOW THIS LINE\n",
    "\n",
    "for pauli in pauli_list:\n",
    "    print(pauli, '\\n')\n"
   ]
  },
  {
   "cell_type": "code",
   "execution_count": 3,
   "id": "a796e212",
   "metadata": {
    "execution": {
     "iopub.execute_input": "2022-07-31T17:32:37.965349Z",
     "iopub.status.busy": "2022-07-31T17:32:37.965113Z",
     "iopub.status.idle": "2022-07-31T17:32:39.543669Z",
     "shell.execute_reply": "2022-07-31T17:32:39.543003Z"
    },
    "papermill": {
     "duration": 1.660242,
     "end_time": "2022-07-31T17:32:39.545296",
     "exception": false,
     "start_time": "2022-07-31T17:32:37.885054",
     "status": "completed"
    },
    "tags": []
   },
   "outputs": [
    {
     "name": "stdout",
     "output_type": "stream",
     "text": [
      "Submitting your answer. Please wait...\n"
     ]
    },
    {
     "name": "stdout",
     "output_type": "stream",
     "text": [
      "Congratulations 🎉! Your answer is correct and has been submitted.\n"
     ]
    }
   ],
   "source": [
    "from qc_grader.challenges.qgss_2022 import grade_lab2_ex1\n",
    "\n",
    "grade_lab2_ex1(pauli_list)"
   ]
  },
  {
   "cell_type": "markdown",
   "id": "d04bc1e6",
   "metadata": {
    "papermill": {
     "duration": 0.078,
     "end_time": "2022-07-31T17:32:39.713681",
     "exception": false,
     "start_time": "2022-07-31T17:32:39.635681",
     "status": "completed"
    },
    "tags": []
   },
   "source": [
    "There's a few operations that we can do on operators which are implemented in Qiskit Opflow. For example, we can rescale an operator by a scalar factor using `*`, we can compose operators using `@` and we can take the tensor product of operators using `^`. In the following, let us try to use these operations. Note that we need to be careful with the operations' precedences as python evaluates `+` before `^` and that may change the intended value of an expression. For example, `I^X+X^I` is actually interpreted as `I^(X+X)^I=2(I^X^I)`. Therefore the use of parenthesis is strongly recommended to avoid these types of errors. Also, keep in mind that the imaginary unit <em>i</em> is defined as `1j` in Python.\n",
    "\n",
    "\n",
    "### 2.) Define the ladder operator: $\\hat{\\sigma}^{+} = \\frac{ \\hat{\\sigma}_x + i \\hat{\\sigma}_y}{2}$ and $\\hat{\\sigma}^{-} = \\frac{\\hat{\\sigma}_x - i \\hat{\\sigma}_y}{2}$"
   ]
  },
  {
   "cell_type": "code",
   "execution_count": 4,
   "id": "daea5026",
   "metadata": {
    "execution": {
     "iopub.execute_input": "2022-07-31T17:32:39.962797Z",
     "iopub.status.busy": "2022-07-31T17:32:39.962206Z",
     "iopub.status.idle": "2022-07-31T17:32:39.969577Z",
     "shell.execute_reply": "2022-07-31T17:32:39.968909Z"
    },
    "papermill": {
     "duration": 0.092741,
     "end_time": "2022-07-31T17:32:39.971155",
     "exception": false,
     "start_time": "2022-07-31T17:32:39.878414",
     "status": "completed"
    },
    "tags": []
   },
   "outputs": [
    {
     "name": "stdout",
     "output_type": "stream",
     "text": [
      "0.5 * X\n",
      "+ 0.5j * Y \n",
      "\n",
      "0.5 * X\n",
      "+ -0.5j * Y \n",
      "\n"
     ]
    }
   ],
   "source": [
    "# Define list of ladder operators\n",
    "ladder_operator_list = [0.5*(X+(1j*Y)),0.5*(X-(1j*Y))]\n",
    "\n",
    "# Define ladder operators and add the to the list\n",
    "###INSERT CODE BELOW THIS LINE\n",
    "\n",
    "\n",
    "###DO NOT EDIT BELOW THIS LINE\n",
    "\n",
    "for ladder_operator in ladder_operator_list:\n",
    "    print(ladder_operator, '\\n')\n"
   ]
  },
  {
   "cell_type": "code",
   "execution_count": 5,
   "id": "78579d30",
   "metadata": {
    "execution": {
     "iopub.execute_input": "2022-07-31T17:32:40.229185Z",
     "iopub.status.busy": "2022-07-31T17:32:40.228640Z",
     "iopub.status.idle": "2022-07-31T17:32:46.628153Z",
     "shell.execute_reply": "2022-07-31T17:32:46.627053Z"
    },
    "papermill": {
     "duration": 6.536711,
     "end_time": "2022-07-31T17:32:46.629987",
     "exception": false,
     "start_time": "2022-07-31T17:32:40.093276",
     "status": "completed"
    },
    "tags": []
   },
   "outputs": [
    {
     "name": "stdout",
     "output_type": "stream",
     "text": [
      "Submitting your answer. Please wait...\n"
     ]
    },
    {
     "name": "stdout",
     "output_type": "stream",
     "text": [
      "Congratulations 🎉! Your answer is correct and has been submitted.\n"
     ]
    }
   ],
   "source": [
    "from qc_grader.challenges.qgss_2022 import grade_lab2_ex2\n",
    "\n",
    "grade_lab2_ex2(ladder_operator_list)"
   ]
  },
  {
   "cell_type": "markdown",
   "id": "2b7f070d",
   "metadata": {
    "papermill": {
     "duration": 0.077362,
     "end_time": "2022-07-31T17:32:46.792794",
     "exception": false,
     "start_time": "2022-07-31T17:32:46.715432",
     "status": "completed"
    },
    "tags": []
   },
   "source": [
    "We can take the operators defined in Qiskit Opflow and translate them into other representation. For example the `to_matrix()` method of an Operator object allows us to retrieve the matrix representation of the operator (as a numpy array)\n",
    "\n",
    "### 3.) Obtain the matrix representation of the pauli operators (`sigma_X`, `sigma_Y`, `sigma_Z` and `identity` )\n",
    "Please submit the result as a list with the operators ordered as above.\n"
   ]
  },
  {
   "cell_type": "code",
   "execution_count": 6,
   "id": "da5f7220",
   "metadata": {
    "execution": {
     "iopub.execute_input": "2022-07-31T17:32:47.024312Z",
     "iopub.status.busy": "2022-07-31T17:32:47.023937Z",
     "iopub.status.idle": "2022-07-31T17:32:47.032347Z",
     "shell.execute_reply": "2022-07-31T17:32:47.031567Z"
    },
    "papermill": {
     "duration": 0.089203,
     "end_time": "2022-07-31T17:32:47.033848",
     "exception": false,
     "start_time": "2022-07-31T17:32:46.944645",
     "status": "completed"
    },
    "tags": []
   },
   "outputs": [
    {
     "name": "stdout",
     "output_type": "stream",
     "text": [
      "[]\n",
      "[array([[0.+0.j, 1.+0.j],\n",
      "       [1.+0.j, 0.+0.j]]), array([[0.+0.j, 0.-1.j],\n",
      "       [0.+1.j, 0.+0.j]]), array([[ 1.+0.j,  0.+0.j],\n",
      "       [ 0.+0.j, -1.+0.j]]), array([[1.+0.j, 0.+0.j],\n",
      "       [0.+0.j, 1.+0.j]])]\n",
      "[[0.+0.j 1.+0.j]\n",
      " [1.+0.j 0.+0.j]] \n",
      "\n",
      "[[0.+0.j 0.-1.j]\n",
      " [0.+1.j 0.+0.j]] \n",
      "\n",
      "[[ 1.+0.j  0.+0.j]\n",
      " [ 0.+0.j -1.+0.j]] \n",
      "\n",
      "[[1.+0.j 0.+0.j]\n",
      " [0.+0.j 1.+0.j]] \n",
      "\n"
     ]
    }
   ],
   "source": [
    "# Define list which will contain the matrices representing the Pauli operators\n",
    "matrix_sigma_list = []\n",
    "print(matrix_sigma_list)\n",
    "# Add matrix representation of Paulis to the list\n",
    "###INSERT CODE BELOW THIS LINE\n",
    "matrix_sigma_list.append(X.to_matrix())\n",
    "matrix_sigma_list.append(Y.to_matrix())\n",
    "matrix_sigma_list.append(Z.to_matrix())\n",
    "matrix_sigma_list.append(I.to_matrix())\n",
    "print(matrix_sigma_list)\n",
    "\n",
    "###DO NOT EDIT BELOW THIS LINE\n",
    "\n",
    "for matrix_sigma in matrix_sigma_list:\n",
    "    print(matrix_sigma, '\\n')"
   ]
  },
  {
   "cell_type": "code",
   "execution_count": 7,
   "id": "f0d17bb4",
   "metadata": {
    "execution": {
     "iopub.execute_input": "2022-07-31T17:32:47.232618Z",
     "iopub.status.busy": "2022-07-31T17:32:47.232060Z",
     "iopub.status.idle": "2022-07-31T17:32:48.129742Z",
     "shell.execute_reply": "2022-07-31T17:32:48.128749Z"
    },
    "papermill": {
     "duration": 1.023125,
     "end_time": "2022-07-31T17:32:48.131834",
     "exception": false,
     "start_time": "2022-07-31T17:32:47.108709",
     "status": "completed"
    },
    "tags": []
   },
   "outputs": [
    {
     "name": "stdout",
     "output_type": "stream",
     "text": [
      "Submitting your answer. Please wait...\n"
     ]
    },
    {
     "name": "stdout",
     "output_type": "stream",
     "text": [
      "Congratulations 🎉! Your answer is correct and has been submitted.\n"
     ]
    }
   ],
   "source": [
    "from qc_grader.challenges.qgss_2022 import grade_lab2_ex3\n",
    "\n",
    "grade_lab2_ex3(matrix_sigma_list)"
   ]
  },
  {
   "cell_type": "markdown",
   "id": "de20abf6",
   "metadata": {
    "papermill": {
     "duration": 0.11301,
     "end_time": "2022-07-31T17:32:48.381308",
     "exception": false,
     "start_time": "2022-07-31T17:32:48.268298",
     "status": "completed"
    },
    "tags": []
   },
   "source": [
    "We can also generate a circuit representation of the operator using the `to_circuit()` method\n",
    "\n",
    "### 4.) Obtain the circuit representation of the pauli operators (`sigma_X`, `sigma_Y`, `sigma_Z` and `identity` )\n",
    "Please submit the result as a list with the operators ordered as above.\n"
   ]
  },
  {
   "cell_type": "code",
   "execution_count": 8,
   "id": "ebb5ffe7",
   "metadata": {
    "execution": {
     "iopub.execute_input": "2022-07-31T17:32:48.544495Z",
     "iopub.status.busy": "2022-07-31T17:32:48.544209Z",
     "iopub.status.idle": "2022-07-31T17:32:48.581560Z",
     "shell.execute_reply": "2022-07-31T17:32:48.580706Z"
    },
    "papermill": {
     "duration": 0.125155,
     "end_time": "2022-07-31T17:32:48.583390",
     "exception": false,
     "start_time": "2022-07-31T17:32:48.458235",
     "status": "completed"
    },
    "tags": []
   },
   "outputs": [
    {
     "name": "stdout",
     "output_type": "stream",
     "text": [
      "[<qiskit.circuit.quantumcircuit.QuantumCircuit object at 0x7fb2aeb88850>, <qiskit.circuit.quantumcircuit.QuantumCircuit object at 0x7fb2aeb88310>, <qiskit.circuit.quantumcircuit.QuantumCircuit object at 0x7fb2aeb88880>, <qiskit.circuit.quantumcircuit.QuantumCircuit object at 0x7fb2aeb887f0>]\n",
      "   ┌───┐\n",
      "q: ┤ X ├\n",
      "   └───┘ \n",
      "\n",
      "   ┌───┐\n",
      "q: ┤ Y ├\n",
      "   └───┘ \n",
      "\n",
      "   ┌───┐\n",
      "q: ┤ Z ├\n",
      "   └───┘ \n",
      "\n",
      "   \n",
      "q: \n",
      "    \n",
      "\n"
     ]
    }
   ],
   "source": [
    "# Define a list which will contain the circuit representation of the Paulis\n",
    "circuit_sigma_list = []\n",
    "\n",
    "# Add circuits to list\n",
    "###INSERT CODE BELOW THIS LINE\n",
    "\n",
    "circuit_sigma_list.append(X.to_circuit())\n",
    "circuit_sigma_list.append(Y.to_circuit())\n",
    "circuit_sigma_list.append(Z.to_circuit())\n",
    "circuit_sigma_list.append(I.to_circuit())\n",
    "print(circuit_sigma_list)\n",
    "###DO NOT EDIT BELOW THIS LINE\n",
    "\n",
    "for circuit in circuit_sigma_list:\n",
    "    print(circuit, '\\n')\n",
    "\n"
   ]
  },
  {
   "cell_type": "code",
   "execution_count": 9,
   "id": "f3ebbfb1",
   "metadata": {
    "execution": {
     "iopub.execute_input": "2022-07-31T17:32:48.827808Z",
     "iopub.status.busy": "2022-07-31T17:32:48.827219Z",
     "iopub.status.idle": "2022-07-31T17:32:50.028820Z",
     "shell.execute_reply": "2022-07-31T17:32:50.028104Z"
    },
    "papermill": {
     "duration": 1.284531,
     "end_time": "2022-07-31T17:32:50.030446",
     "exception": false,
     "start_time": "2022-07-31T17:32:48.745915",
     "status": "completed"
    },
    "tags": []
   },
   "outputs": [
    {
     "name": "stdout",
     "output_type": "stream",
     "text": [
      "Submitting your answer. Please wait...\n"
     ]
    },
    {
     "name": "stdout",
     "output_type": "stream",
     "text": [
      "Congratulations 🎉! Your answer is correct and has been submitted.\n"
     ]
    }
   ],
   "source": [
    "from qc_grader.challenges.qgss_2022 import grade_lab2_ex4\n",
    "\n",
    "grade_lab2_ex4(circuit_sigma_list)"
   ]
  },
  {
   "cell_type": "markdown",
   "id": "0b601269",
   "metadata": {
    "papermill": {
     "duration": 0.141486,
     "end_time": "2022-07-31T17:32:50.259374",
     "exception": false,
     "start_time": "2022-07-31T17:32:50.117888",
     "status": "completed"
    },
    "tags": []
   },
   "source": [
    "## II.2: Simulating Time-Evolution with Quantum Circuits\n",
    "\n",
    "Now that we are a little more familiar with the syntax of the Qiskit Opflow module we can put this knowledge to use to build the first quantum circuit simulating the dynamics (or time-evolution) of a system described by a given Hamiltonian. As a first step, let us introduce parametrized circuits. Below we'll create a circuit with a parametrized rotation with an angle $\\theta$. The goal is not to directly use parametrized rotations but to understand how Qiskit's quantum circuit can accept parameters whose values will be defined later on. We'll need that to create circuits that represent time-evolution operators with a parametrized value for the time.\n",
    "\n",
    "### 1.) Create a circuit with a parametrized RX rotation of an angle $\\theta$"
   ]
  },
  {
   "cell_type": "code",
   "execution_count": 10,
   "id": "b32110b9",
   "metadata": {
    "execution": {
     "iopub.execute_input": "2022-07-31T17:32:50.481484Z",
     "iopub.status.busy": "2022-07-31T17:32:50.481227Z",
     "iopub.status.idle": "2022-07-31T17:32:50.855472Z",
     "shell.execute_reply": "2022-07-31T17:32:50.854703Z"
    },
    "papermill": {
     "duration": 0.513415,
     "end_time": "2022-07-31T17:32:50.857332",
     "exception": false,
     "start_time": "2022-07-31T17:32:50.343917",
     "status": "completed"
    },
    "tags": []
   },
   "outputs": [
    {
     "name": "stdout",
     "output_type": "stream",
     "text": [
      "   ┌───────────┐\n",
      "q: ┤ Rx(theta) ├\n",
      "   └───────────┘\n"
     ]
    }
   ],
   "source": [
    "# Define a variable theta to be a parameter with name 'theta'\n",
    "theta = Parameter('theta')\n",
    "# Set number of qubits to 1\n",
    "qubits_count = 1\n",
    "# Initialize a quantum circuit with one qubit\n",
    "quantum_circuit = QuantumCircuit(qubits_count)\n",
    "quantum_circuit.rx(theta,0)\n",
    "\n",
    "# Add a parametrized RX rotation on the qubit\n",
    "###INSERT CODE BELOW THIS LINE\n",
    "\n",
    "\n",
    "###DO NOT EDIT BELOW THIS LINE\n",
    "\n",
    "print(quantum_circuit)\n"
   ]
  },
  {
   "cell_type": "code",
   "execution_count": 11,
   "id": "df139880",
   "metadata": {
    "execution": {
     "iopub.execute_input": "2022-07-31T17:32:51.201757Z",
     "iopub.status.busy": "2022-07-31T17:32:51.201211Z",
     "iopub.status.idle": "2022-07-31T17:32:53.246552Z",
     "shell.execute_reply": "2022-07-31T17:32:53.245855Z"
    },
    "papermill": {
     "duration": 2.242386,
     "end_time": "2022-07-31T17:32:53.248083",
     "exception": false,
     "start_time": "2022-07-31T17:32:51.005697",
     "status": "completed"
    },
    "tags": []
   },
   "outputs": [
    {
     "name": "stdout",
     "output_type": "stream",
     "text": [
      "Submitting your answer. Please wait...\n"
     ]
    },
    {
     "name": "stdout",
     "output_type": "stream",
     "text": [
      "Congratulations 🎉! Your answer is correct and has been submitted.\n"
     ]
    }
   ],
   "source": [
    "from qc_grader.challenges.qgss_2022 import grade_lab2_ex5\n",
    "\n",
    "grade_lab2_ex5(quantum_circuit)"
   ]
  },
  {
   "cell_type": "markdown",
   "id": "8e89a980",
   "metadata": {
    "papermill": {
     "duration": 0.168358,
     "end_time": "2022-07-31T17:32:53.573538",
     "exception": false,
     "start_time": "2022-07-31T17:32:53.405180",
     "status": "completed"
    },
    "tags": []
   },
   "source": [
    "This creates a circuit where the parameter of the RX gate is a placeholder which is waiting for a value. Once we decide on the value of $\\theta$, we can bind it to the circuit using the `bind_parameters({parameter: parameter_value})` method of the `QuantumCircuit` object.\n",
    "\n",
    "### 2.) Bind numerical value of the angle $\\theta$"
   ]
  },
  {
   "cell_type": "code",
   "execution_count": 12,
   "id": "0da34e3e",
   "metadata": {
    "execution": {
     "iopub.execute_input": "2022-07-31T17:32:53.750359Z",
     "iopub.status.busy": "2022-07-31T17:32:53.749814Z",
     "iopub.status.idle": "2022-07-31T17:32:53.756150Z",
     "shell.execute_reply": "2022-07-31T17:32:53.755545Z"
    },
    "papermill": {
     "duration": 0.100872,
     "end_time": "2022-07-31T17:32:53.757575",
     "exception": false,
     "start_time": "2022-07-31T17:32:53.656703",
     "status": "completed"
    },
    "tags": []
   },
   "outputs": [
    {
     "name": "stdout",
     "output_type": "stream",
     "text": [
      "   ┌───────┐\n",
      "q: ┤ Rx(π) ├\n",
      "   └───────┘\n"
     ]
    }
   ],
   "source": [
    "# Set the value of the parameter\n",
    "theta_value = np.pi\n",
    "\n",
    "# Bind the value to the parametrized circuit\n",
    "###INSERT CODE BELOW THIS LINE\n",
    "quantum_circuit=quantum_circuit.bind_parameters({theta: theta_value})\n",
    "\n",
    "###DO NOT EDIT BELOW THIS LINE\n",
    "\n",
    "print(quantum_circuit)"
   ]
  },
  {
   "cell_type": "code",
   "execution_count": 13,
   "id": "d170c6fa",
   "metadata": {
    "execution": {
     "iopub.execute_input": "2022-07-31T17:32:54.028214Z",
     "iopub.status.busy": "2022-07-31T17:32:54.026656Z",
     "iopub.status.idle": "2022-07-31T17:32:55.901082Z",
     "shell.execute_reply": "2022-07-31T17:32:55.900314Z"
    },
    "papermill": {
     "duration": 2.04585,
     "end_time": "2022-07-31T17:32:55.902671",
     "exception": false,
     "start_time": "2022-07-31T17:32:53.856821",
     "status": "completed"
    },
    "tags": []
   },
   "outputs": [
    {
     "name": "stdout",
     "output_type": "stream",
     "text": [
      "Submitting your answer. Please wait...\n"
     ]
    },
    {
     "name": "stdout",
     "output_type": "stream",
     "text": [
      "Congratulations 🎉! Your answer is correct and has been submitted.\n"
     ]
    }
   ],
   "source": [
    "from qc_grader.challenges.qgss_2022 import grade_lab2_ex6\n",
    "\n",
    "grade_lab2_ex6(quantum_circuit)"
   ]
  },
  {
   "cell_type": "markdown",
   "id": "a81f73b9",
   "metadata": {
    "papermill": {
     "duration": 0.126356,
     "end_time": "2022-07-31T17:32:56.112428",
     "exception": false,
     "start_time": "2022-07-31T17:32:55.986072",
     "status": "completed"
    },
    "tags": []
   },
   "source": [
    "Let us start to prepare the building blocks we'll need to calculate the time-evolution of a quantum system using a quantum computer. First let's define the Hamiltonian of the system to be the Heisenberg Hamiltonian for two qubits:\n",
    "\n",
    "$$ \\hat{H} = \\frac{1}{2} \\left( \\hat{I}\\otimes \\hat{I} +  \\hat{\\sigma}_x \\otimes \\hat{\\sigma}_x + \\hat{\\sigma}_y \\otimes \\hat{\\sigma}_y + \\hat{\\sigma}_z \\otimes \\hat{\\sigma}_z \\right) $$\n",
    "\n",
    "### 3.) Define the Heisenberg Hamiltonian using Qiskit Opflow"
   ]
  },
  {
   "cell_type": "code",
   "execution_count": 14,
   "id": "072cb75e",
   "metadata": {
    "execution": {
     "iopub.execute_input": "2022-07-31T17:32:56.306714Z",
     "iopub.status.busy": "2022-07-31T17:32:56.306435Z",
     "iopub.status.idle": "2022-07-31T17:32:56.317788Z",
     "shell.execute_reply": "2022-07-31T17:32:56.317066Z"
    },
    "papermill": {
     "duration": 0.096749,
     "end_time": "2022-07-31T17:32:56.319273",
     "exception": false,
     "start_time": "2022-07-31T17:32:56.222524",
     "status": "completed"
    },
    "tags": []
   },
   "outputs": [
    {
     "name": "stdout",
     "output_type": "stream",
     "text": [
      "[[1.+0.j 0.+0.j 0.+0.j 0.+0.j]\n",
      " [0.+0.j 0.+0.j 1.+0.j 0.+0.j]\n",
      " [0.+0.j 1.+0.j 0.+0.j 0.+0.j]\n",
      " [0.+0.j 0.+0.j 0.+0.j 1.+0.j]]\n"
     ]
    }
   ],
   "source": [
    "# Use the formula above to define the Hamiltonian operator\n",
    "###INSERT CODE BELOW THIS LINE\n",
    "H = 0.5*((I^I) + (X^X) + (Y^Y) + (Z^Z))\n",
    "\n",
    "###DO NOT EDIT BELOW THIS LINE\n",
    "\n",
    "# Get its matrix representation\n",
    "H_matrix = H.to_matrix()\n",
    "\n",
    "print(H_matrix)"
   ]
  },
  {
   "cell_type": "code",
   "execution_count": 15,
   "id": "8f4410f9",
   "metadata": {
    "execution": {
     "iopub.execute_input": "2022-07-31T17:32:56.488998Z",
     "iopub.status.busy": "2022-07-31T17:32:56.488703Z",
     "iopub.status.idle": "2022-07-31T17:32:57.872371Z",
     "shell.execute_reply": "2022-07-31T17:32:57.871718Z"
    },
    "papermill": {
     "duration": 1.468703,
     "end_time": "2022-07-31T17:32:57.873883",
     "exception": false,
     "start_time": "2022-07-31T17:32:56.405180",
     "status": "completed"
    },
    "tags": []
   },
   "outputs": [
    {
     "name": "stdout",
     "output_type": "stream",
     "text": [
      "Submitting your answer. Please wait...\n"
     ]
    },
    {
     "name": "stdout",
     "output_type": "stream",
     "text": [
      "Congratulations 🎉! Your answer is correct and has been submitted.\n"
     ]
    }
   ],
   "source": [
    "from qc_grader.challenges.qgss_2022 import grade_lab2_ex7\n",
    "\n",
    "grade_lab2_ex7(H_matrix)"
   ]
  },
  {
   "cell_type": "markdown",
   "id": "5b35f888",
   "metadata": {
    "papermill": {
     "duration": 0.088408,
     "end_time": "2022-07-31T17:32:58.052345",
     "exception": false,
     "start_time": "2022-07-31T17:32:57.963937",
     "status": "completed"
    },
    "tags": []
   },
   "source": [
    "Next, let's create a quantum circuit for time evolution! We'll parametrize the time `t` with a Qiskit `Parameter` and exponentiate the Heisenberg Hamiltonian with the Qiskit Opflow method `exp_i()` which implements the corressponding time-evolution operator $e^{-i \\hat{H} t}$\n",
    "\n",
    "### 4.) Define the time evolution operator for the Heisenberg Hamiltonian $\\hat{H}$ and the time step $t$"
   ]
  },
  {
   "cell_type": "code",
   "execution_count": 16,
   "id": "89c932b5",
   "metadata": {
    "execution": {
     "iopub.execute_input": "2022-07-31T17:32:58.229669Z",
     "iopub.status.busy": "2022-07-31T17:32:58.229385Z",
     "iopub.status.idle": "2022-07-31T17:32:58.235382Z",
     "shell.execute_reply": "2022-07-31T17:32:58.234748Z"
    },
    "papermill": {
     "duration": 0.095937,
     "end_time": "2022-07-31T17:32:58.236894",
     "exception": false,
     "start_time": "2022-07-31T17:32:58.140957",
     "status": "completed"
    },
    "tags": []
   },
   "outputs": [
    {
     "name": "stdout",
     "output_type": "stream",
     "text": [
      "e^(-i*1.0*t * (\n",
      "  0.5 * II\n",
      "  + 0.5 * XX\n",
      "  + 0.5 * YY\n",
      "  + 0.5 * ZZ\n",
      "))\n"
     ]
    }
   ],
   "source": [
    "# Define a parameter t for the time in the time evolution operator\n",
    "t = Parameter('t')\n",
    "\n",
    "# Follow the instructions above to define a time-evolution operator\n",
    "###INSERT CODE BELOW THIS LINE\n",
    "time_evolution_operator = (H*t).exp_i()\n",
    "\n",
    "###DO NOT EDIT BELOW THIS LINE\n",
    "\n",
    "print(time_evolution_operator)"
   ]
  },
  {
   "cell_type": "code",
   "execution_count": 17,
   "id": "e1a9e7dc",
   "metadata": {
    "execution": {
     "iopub.execute_input": "2022-07-31T17:32:58.457187Z",
     "iopub.status.busy": "2022-07-31T17:32:58.456896Z",
     "iopub.status.idle": "2022-07-31T17:32:59.375684Z",
     "shell.execute_reply": "2022-07-31T17:32:59.374893Z"
    },
    "papermill": {
     "duration": 1.05474,
     "end_time": "2022-07-31T17:32:59.377131",
     "exception": false,
     "start_time": "2022-07-31T17:32:58.322391",
     "status": "completed"
    },
    "tags": []
   },
   "outputs": [
    {
     "name": "stdout",
     "output_type": "stream",
     "text": [
      "Submitting your answer. Please wait...\n"
     ]
    },
    {
     "name": "stdout",
     "output_type": "stream",
     "text": [
      "Congratulations 🎉! Your answer is correct and has been submitted.\n"
     ]
    }
   ],
   "source": [
    "from qc_grader.challenges.qgss_2022 import grade_lab2_ex8\n",
    "\n",
    "grade_lab2_ex8(time_evolution_operator)"
   ]
  },
  {
   "cell_type": "markdown",
   "id": "443b0504",
   "metadata": {
    "papermill": {
     "duration": 0.112572,
     "end_time": "2022-07-31T17:32:59.578811",
     "exception": false,
     "start_time": "2022-07-31T17:32:59.466239",
     "status": "completed"
    },
    "tags": []
   },
   "source": [
    "We can then generate a circuit which implements the necessary operations that compute the time-evolution operator for a given evolution time. First, let's try to do this exactly with the `MatrxEvolution` class of Qiskit Opflow.\n",
    "\n",
    "### 5.) Use `MatrixEvolution` to calculate the exact exponentiation at time $t$\n",
    "\n",
    "*Hint: First you'll need to instantiate a `MatrixEvolution()` object. This object has a method called `convert(operator)` which takes a time-evolution operator and generates a quantum circuit implementing the operation. Finally, you'll need to bind the value of the evolution time to the circuit."
   ]
  },
  {
   "cell_type": "code",
   "execution_count": 18,
   "id": "8dfccdf8",
   "metadata": {
    "execution": {
     "iopub.execute_input": "2022-07-31T17:32:59.891855Z",
     "iopub.status.busy": "2022-07-31T17:32:59.891295Z",
     "iopub.status.idle": "2022-07-31T17:32:59.902646Z",
     "shell.execute_reply": "2022-07-31T17:32:59.901980Z"
    },
    "papermill": {
     "duration": 0.097757,
     "end_time": "2022-07-31T17:32:59.904098",
     "exception": false,
     "start_time": "2022-07-31T17:32:59.806341",
     "status": "completed"
    },
    "tags": []
   },
   "outputs": [
    {
     "name": "stderr",
     "output_type": "stream",
     "text": [
      "Evolved Hamiltonian is not composed of only MatrixOps, converting to Matrix representation, which can be expensive.\n"
     ]
    },
    {
     "name": "stdout",
     "output_type": "stream",
     "text": [
      "     ┌──────────────┐\n",
      "q_0: ┤0             ├\n",
      "     │  Hamiltonian │\n",
      "q_1: ┤1             ├\n",
      "     └──────────────┘\n",
      "     ┌──────────────┐\n",
      "q_0: ┤0             ├\n",
      "     │  Hamiltonian │\n",
      "q_1: ┤1             ├\n",
      "     └──────────────┘\n"
     ]
    }
   ],
   "source": [
    "# Set a total time for the time evolution\n",
    "evolution_time = 0.5\n",
    "\n",
    "# Instantiate a MatrixEvolution() object to convert the time evolution operator\n",
    "#  and bind the value for the time parameter\n",
    "###INSERT CODE BELOW THIS LINE\n",
    "\n",
    "bound_matrix_exponentiation_circuit = MatrixEvolution().convert(time_evolution_operator)\n",
    "\n",
    "#bound_matrix_exponentiation_circuit = QuantumCircuit(1)\n",
    "#bound_matrix_exponentiation_circuit = me.convert(H)\n",
    "print(bound_matrix_exponentiation_circuit)\n",
    "\n",
    "bound_matrix_exponentiation_circuit = bound_matrix_exponentiation_circuit.bind_parameters({t: evolution_time})\n",
    "\n",
    "\n",
    "###DO NOT EDIT BELOW THIS LINE\n",
    "\n",
    "print(bound_matrix_exponentiation_circuit)"
   ]
  },
  {
   "cell_type": "code",
   "execution_count": 19,
   "id": "11605baf",
   "metadata": {
    "execution": {
     "iopub.execute_input": "2022-07-31T17:33:00.075404Z",
     "iopub.status.busy": "2022-07-31T17:33:00.075090Z",
     "iopub.status.idle": "2022-07-31T17:33:02.039257Z",
     "shell.execute_reply": "2022-07-31T17:33:02.038699Z"
    },
    "papermill": {
     "duration": 2.058323,
     "end_time": "2022-07-31T17:33:02.045343",
     "exception": false,
     "start_time": "2022-07-31T17:32:59.987020",
     "status": "completed"
    },
    "tags": []
   },
   "outputs": [
    {
     "name": "stdout",
     "output_type": "stream",
     "text": [
      "Submitting your answer. Please wait...\n"
     ]
    },
    {
     "name": "stdout",
     "output_type": "stream",
     "text": [
      "Congratulations 🎉! Your answer is correct and has been submitted.\n"
     ]
    }
   ],
   "source": [
    "from qc_grader.challenges.qgss_2022 import grade_lab2_ex9\n",
    "\n",
    "grade_lab2_ex9(bound_matrix_exponentiation_circuit)"
   ]
  },
  {
   "cell_type": "markdown",
   "id": "48ae5aa8",
   "metadata": {
    "papermill": {
     "duration": 0.11074,
     "end_time": "2022-07-31T17:33:02.309415",
     "exception": false,
     "start_time": "2022-07-31T17:33:02.198675",
     "status": "completed"
    },
    "tags": []
   },
   "source": [
    "As a last step, let us also generate the circuit corresponding to the time-evolution operator calculated using the Trotter-Suzuki decomposition. For this we'll use the `PauliTrotterEvolution` class in the same way we've used the  `MatrixEvolution()` one.\n",
    "\n",
    "### 6.) Use `PauliTrotterEvolution` to calculate the approximate exponentiation for a small time step"
   ]
  },
  {
   "cell_type": "code",
   "execution_count": 20,
   "id": "1b0565e0",
   "metadata": {
    "execution": {
     "iopub.execute_input": "2022-07-31T17:33:02.482101Z",
     "iopub.status.busy": "2022-07-31T17:33:02.481819Z",
     "iopub.status.idle": "2022-07-31T17:33:02.490471Z",
     "shell.execute_reply": "2022-07-31T17:33:02.489928Z"
    },
    "papermill": {
     "duration": 0.094854,
     "end_time": "2022-07-31T17:33:02.491856",
     "exception": false,
     "start_time": "2022-07-31T17:33:02.397002",
     "status": "completed"
    },
    "tags": []
   },
   "outputs": [
    {
     "name": "stdout",
     "output_type": "stream",
     "text": [
      "     ┌────────────────────────────────────┐\n",
      "q_0: ┤0                                   ├\n",
      "     │  exp(-it (II + XX + YY + ZZ))(0.1) │\n",
      "q_1: ┤1                                   ├\n",
      "     └────────────────────────────────────┘\n"
     ]
    }
   ],
   "source": [
    "# Define a value for the duration of the time-step\n",
    "time_step_value = 0.1\n",
    "\n",
    "# Instantiate a PauliTrotterEvolution() object and convert the time-evolution operator\n",
    "# to then bind the value of the time step\n",
    "###INSERT CODE BELOW THIS LINE\n",
    "\n",
    "bound_trotter_exponentiation_circuit = PauliTrotterEvolution().convert(time_evolution_operator)\n",
    "\n",
    "bound_trotter_exponentiation_circuit = bound_trotter_exponentiation_circuit.bind_parameters({t: time_step_value})\n",
    "\n",
    "\n",
    "###DO NOT EDIT BELOW THIS LINE\n",
    "\n",
    "print(bound_trotter_exponentiation_circuit)"
   ]
  },
  {
   "cell_type": "code",
   "execution_count": 21,
   "id": "a0f4aeb8",
   "metadata": {
    "execution": {
     "iopub.execute_input": "2022-07-31T17:33:02.718262Z",
     "iopub.status.busy": "2022-07-31T17:33:02.717983Z",
     "iopub.status.idle": "2022-07-31T17:33:06.672546Z",
     "shell.execute_reply": "2022-07-31T17:33:06.671750Z"
    },
    "papermill": {
     "duration": 4.084645,
     "end_time": "2022-07-31T17:33:06.674059",
     "exception": false,
     "start_time": "2022-07-31T17:33:02.589414",
     "status": "completed"
    },
    "tags": []
   },
   "outputs": [
    {
     "name": "stdout",
     "output_type": "stream",
     "text": [
      "Submitting your answer. Please wait...\n"
     ]
    },
    {
     "name": "stdout",
     "output_type": "stream",
     "text": [
      "Congratulations 🎉! Your answer is correct and has been submitted.\n"
     ]
    }
   ],
   "source": [
    "from qc_grader.challenges.qgss_2022 import grade_lab2_ex10\n",
    "\n",
    "grade_lab2_ex10(bound_trotter_exponentiation_circuit)"
   ]
  },
  {
   "cell_type": "markdown",
   "id": "fe2cf56f",
   "metadata": {
    "papermill": {
     "duration": 0.126503,
     "end_time": "2022-07-31T17:33:06.889392",
     "exception": false,
     "start_time": "2022-07-31T17:33:06.762889",
     "status": "completed"
    },
    "tags": []
   },
   "source": [
    "The full evolution can then be obtained by putting together several Trotter steps up to the desired evolution time. For each Trotter step you can compose the single-step Trotter using the `@` operator.\n",
    "\n",
    "### 7.) Concatenate several Trotter steps to generate the desired evolution"
   ]
  },
  {
   "cell_type": "code",
   "execution_count": 22,
   "id": "d61ca508",
   "metadata": {
    "execution": {
     "iopub.execute_input": "2022-07-31T17:33:07.206530Z",
     "iopub.status.busy": "2022-07-31T17:33:07.205855Z",
     "iopub.status.idle": "2022-07-31T17:33:07.244010Z",
     "shell.execute_reply": "2022-07-31T17:33:07.243045Z"
    },
    "papermill": {
     "duration": 0.18797,
     "end_time": "2022-07-31T17:33:07.245374",
     "exception": true,
     "start_time": "2022-07-31T17:33:07.057404",
     "status": "failed"
    },
    "tags": []
   },
   "outputs": [
    {
     "name": "stdout",
     "output_type": "stream",
     "text": [
      "Traceback \u001b[1;36m(most recent call last)\u001b[0m:\n",
      "\u001b[1;36m  Input \u001b[1;32mIn [22]\u001b[1;36m in \u001b[1;35m<cell line: 7>\u001b[1;36m\u001b[0m\n",
      "\u001b[1;33m    total_time_evolution_circuit = Pauli\u001b[0m\n",
      "\u001b[1;31mNameError\u001b[0m\u001b[1;31m:\u001b[0m name 'Pauli' is not defined\n",
      "\n",
      "Use %tb to get the full traceback.\n"
     ]
    },
    {
     "data": {
      "text/html": [
       "\n",
       "<style>\n",
       ".button {\n",
       "  border: none;\n",
       "  color: white;\n",
       "  padding: 4px 8px;\n",
       "  text-align: center;\n",
       "  text-decoration: none;\n",
       "  display: inline-block;\n",
       "  font-size: 12px;\n",
       "  margin: 4px 2px;\n",
       "  transition-duration: 0.2s;\n",
       "  cursor: pointer;\n",
       "}\n",
       ".iqx-button {\n",
       "  background-color: #0f62fe; \n",
       "  color: white; \n",
       "}\n",
       ".iqx-button:hover {\n",
       "  background-color: #0043ce;\n",
       "  color: white;\n",
       "}\n",
       "</style>\n",
       "<a href=\"https://stackoverflow.com/search?q=NameError: name 'Pauli' is not defined\" target='_blank'><button class='button iqx-button'>Search for solution online</button></a>\n"
      ],
      "text/plain": [
       "<IPython.core.display.HTML object>"
      ]
     },
     "metadata": {},
     "output_type": "display_data"
    }
   ],
   "source": [
    "# Define the number of steps needed to reach the previously set total time-evolution\n",
    "steps = int(evolution_time/time_step_value)\n",
    "\n",
    "# Compose the operator for a Trotter step several times to generate the \n",
    "# operator for the full time-evolution\n",
    "###INSERT CODE BELOW THIS LINE\n",
    "total_time_evolution_circuit = Pauli\n",
    "for n in range (0,steps):\n",
    "    bound_trotter_exponentiation_circuit = bound_trotter_exponentiation_circuit@bound_trotter_exponentiation_circuit\n",
    "\n",
    "total_time_evolution_circuit = bound_trotter_exponentiation_circuit\n",
    "###DO NOT EDIT BELOW THIS LINE\n",
    "\n",
    "print(total_time_evolution_circuit)\n"
   ]
  },
  {
   "cell_type": "code",
   "execution_count": null,
   "id": "352e6dec",
   "metadata": {
    "papermill": {
     "duration": null,
     "end_time": null,
     "exception": null,
     "start_time": null,
     "status": "pending"
    },
    "tags": []
   },
   "outputs": [],
   "source": [
    "from qc_grader.challenges.qgss_2022 import grade_lab2_ex11\n",
    "\n",
    "grade_lab2_ex11(total_time_evolution_circuit)total_time_evolution_circuit"
   ]
  },
  {
   "cell_type": "markdown",
   "id": "5b079050",
   "metadata": {
    "papermill": {
     "duration": null,
     "end_time": null,
     "exception": null,
     "start_time": null,
     "status": "pending"
    },
    "tags": []
   },
   "source": [
    "Consider now a system of three qubits initially in the $\\vert 001 \\rangle$ state, whose evolution is determined by the tight binding Hamiltonian \n",
    "\n",
    "$$\\hat{H} = \\sum_{i=0}^{1} \\hat{\\sigma}_x^{(i)} \\hat{\\sigma}_x^{(i+1)}  + \\sum_{i=0}^{1} \\hat{\\sigma}_y^{(i)} \\hat{\\sigma}_y^{(i+1)} $$\n",
    "\n",
    "Determine the final state at time $t=2$ by evolving the initial state with the time-evolution operator generated by the tight binding Hamiltonian. You can proceed in a similar way as the previous exercises, be careful to compose the circuit for the state preparation and for the time evolution correctly. Note that you should define the Hamiltonian operator exactly as the definition above to get the right aswer for the grader.\n",
    "\n",
    "### 8.) Construct the circuit for preparing an initial state and evolving it under the tight binding Hamiltonian"
   ]
  },
  {
   "cell_type": "code",
   "execution_count": null,
   "id": "a2eaea72",
   "metadata": {
    "papermill": {
     "duration": null,
     "end_time": null,
     "exception": null,
     "start_time": null,
     "status": "pending"
    },
    "tags": []
   },
   "outputs": [],
   "source": [
    "# Set number of qubits\n",
    "num_qubits = 3\n",
    "# Define time parameter\n",
    "t = Parameter('t')\n",
    "# Set total evolution time\n",
    "evolution_time_t = 2\n",
    "# Set size of time-step for Trotter evolution\n",
    "time_step_value_t = 0.1\n",
    "# Define the number of steps\n",
    "steps_t = int(evolution_time_t/time_step_value_t)\n",
    "# Create circuit\n",
    "tight_binding_circuit = QuantumCircuit(num_qubits)\n",
    "# Add initial state preparation\n",
    "tight_binding_circuit.x(0)\n",
    "\n",
    "# Define the Hamiltonian, the time-evolution operator, the Trotter step and the total evolution\n",
    "###INSERT CODE BELOW THIS LINE\n",
    "\n",
    "\n",
    "###DO NOT EDIT BELOW THIS LINE\n",
    "\n",
    "print(full_time_evolution_circuit)\n",
    "\n"
   ]
  },
  {
   "cell_type": "code",
   "execution_count": null,
   "id": "a0d7b77a",
   "metadata": {
    "papermill": {
     "duration": null,
     "end_time": null,
     "exception": null,
     "start_time": null,
     "status": "pending"
    },
    "tags": []
   },
   "outputs": [],
   "source": [
    "from qc_grader.challenges.qgss_2022 import grade_lab2_ex12\n",
    "\n",
    "grade_lab2_ex12(full_time_evolution_circuit)"
   ]
  }
 ],
 "metadata": {
  "interpreter": {
   "hash": "bf4bbb548724c59dba6ce516cee24299166586d445daadc417657751c92c7365"
  },
  "kernelspec": {
   "display_name": "Python 3 (ipykernel)",
   "language": "python",
   "name": "python3"
  },
  "language_info": {
   "codemirror_mode": {
    "name": "ipython",
    "version": 3
   },
   "file_extension": ".py",
   "mimetype": "text/x-python",
   "name": "python",
   "nbconvert_exporter": "python",
   "pygments_lexer": "ipython3",
   "version": "3.8.13"
  },
  "papermill": {
   "default_parameters": {},
   "duration": 33.150712,
   "end_time": "2022-07-31T17:33:07.741822",
   "environment_variables": {},
   "exception": true,
   "input_path": "/home/jovyan/quantum-challenge/2022-qgss/lab2/lab-2.ipynb",
   "output_path": "/home/jovyan/quantum-challenge/2022-qgss/lab2/lab-2-background-results.ipynb",
   "parameters": {},
   "start_time": "2022-07-31T17:32:34.591110",
   "version": "2.3.3"
  },
  "widgets": {
   "application/vnd.jupyter.widget-state+json": {
    "state": {},
    "version_major": 2,
    "version_minor": 0
   }
  }
 },
 "nbformat": 4,
 "nbformat_minor": 5
}